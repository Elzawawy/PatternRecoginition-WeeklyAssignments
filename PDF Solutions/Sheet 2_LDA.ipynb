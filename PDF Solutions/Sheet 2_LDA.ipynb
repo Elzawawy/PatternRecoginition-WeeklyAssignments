{
 "cells": [
  {
   "cell_type": "markdown",
   "metadata": {},
   "source": [
    "## Name:  Amr Ashraf Ibrahim Elzawawy&nbsp;&nbsp;&nbsp;&nbsp;&nbsp;&nbsp;&nbsp;&nbsp;&nbsp;&nbsp;&nbsp;&nbsp;&nbsp;&nbsp;&nbsp;&nbsp;&nbsp;&nbsp;ID: 3788"
   ]
  },
  {
   "cell_type": "markdown",
   "metadata": {},
   "source": [
    "### Question 1 on Orthogonal Projection"
   ]
  },
  {
   "cell_type": "markdown",
   "metadata": {},
   "source": [
    "**1) For the given vectors u1 and u2 below**\n",
    "\n",
    "$$u1 = \\begin{pmatrix} 3\\\\ 4 \\\\ 0\\end{pmatrix}, u2 = \\begin{pmatrix} -4\\\\ 3 \\\\ 0\\end{pmatrix}$$\n",
    "\n",
    "***"
   ]
  },
  {
   "cell_type": "markdown",
   "metadata": {},
   "source": [
    "**a) Verify u1 and u2 are orthogonal**"
   ]
  },
  {
   "cell_type": "markdown",
   "metadata": {},
   "source": [
    "Ans:\n",
    "$$u1^T u2 =\\begin{pmatrix} 3 & 4 & 0\\end{pmatrix} \\begin{pmatrix} -4 \\\\ 3 \\\\ 0\\end{pmatrix} = (3*-4)+(4*3)+0 = 0$$\n",
    "Thus, u1 and u2 are orthogonal. \n",
    "\n",
    "***"
   ]
  },
  {
   "cell_type": "markdown",
   "metadata": {},
   "source": [
    "**b) Find the projection of the point $y=[6,3,-2]^T$ on u1 and u2**"
   ]
  },
  {
   "cell_type": "markdown",
   "metadata": {},
   "source": [
    "Ans:\n",
    "\n",
    "\"y point projected on u1\" $$ y'_1 = \\frac{u_1^Ty}{u_1^Tu_1}u_1 = \n",
    "\\frac{30}{25}u_1 = 1.2 u_1 = \\begin{pmatrix} 3.6 \\\\  4.8\\\\ 0\\end{pmatrix}$$\n",
    "\"y point projected on u2\" $$ y'_2 = \\frac{u_2^Ty}{u_2^Tu_2}u_2 =\n",
    "\\frac{-15}{25}u_2 = -0.6 u_2 = \\begin{pmatrix} 2.4\\\\ -1.8 \\\\ 0\\end{pmatrix}$$\n",
    "\n",
    "***"
   ]
  },
  {
   "cell_type": "markdown",
   "metadata": {},
   "source": [
    "### Question 2 on LDA "
   ]
  },
  {
   "cell_type": "markdown",
   "metadata": {},
   "source": [
    "**For the data on two class problem shown below** "
   ]
  },
  {
   "cell_type": "code",
   "execution_count": 8,
   "metadata": {},
   "outputs": [
    {
     "data": {
      "text/plain": [
       "<matplotlib.collections.PathCollection at 0x7f544fb9fd68>"
      ]
     },
     "execution_count": 8,
     "metadata": {},
     "output_type": "execute_result"
    },
    {
     "data": {
      "image/png": "[encoded data removed]",
      "text/plain": [
       "<Figure size 432x288 with 1 Axes>"
      ]
     },
     "metadata": {
      "needs_background": "light"
     },
     "output_type": "display_data"
    }
   ],
   "source": [
    "import numpy as np\n",
    "import matplotlib.pyplot as plt\n",
    "data = np.array([[2,3],[3,3],[3,4],[5,8],[7,7],[5,4],[6,5],[7,5],[7,4],[8,2],[9,4]])\n",
    "dim1 = np.array([2,3,3,5,7,5,6,7,7,8,9])\n",
    "dim2 = np.array([3,3,4,8,7,4,5,5,4,2,4])\n",
    "plt.scatter(dim1,dim2)"
   ]
  },
  {
   "cell_type": "markdown",
   "metadata": {},
   "source": [
    "**a) Compute $\\mu_1$ and $\\mu_−1$, and B, the between-class scatter matrix.**"
   ]
  },
  {
   "cell_type": "markdown",
   "metadata": {},
   "source": [
    "Ans: \n",
    "$$\\mu_1 = = (\\frac{2+3+3+5+7}{5},\\frac{3+3+4+8+7}{5}) =  \\begin{pmatrix} 4 \\\\ 5 \\end{pmatrix},$$\n",
    "\n",
    "$$\\mu_-1 = (\\frac{5+6+7+7+8+9}{6},\\frac{4+5+5+4+2+4}{6}) = \\begin{pmatrix} 7 \\\\ 4 \\end{pmatrix},$$\n",
    "\n",
    "$$B = (\\mu_1-\\mu_2)(\\mu_1-\\mu_2)^T = \\begin{pmatrix} 3 \\\\ -1\\end{pmatrix} \\begin{pmatrix} -3 & 1 \\end{pmatrix} = \\begin{pmatrix} 9 & -3 \\\\ -3 & 1 \\end{pmatrix}.$$"
   ]
  },
  {
   "cell_type": "markdown",
   "metadata": {},
   "source": [
    "**b) Find the best direction w that discriminates between the classes and sketch it.**\n",
    "Given $S^-1 = \\begin{pmatrix} 0.056 & -0.029 \\\\ -0.029 & 0.056 \\end{pmatrix}$"
   ]
  },
  {
   "cell_type": "markdown",
   "metadata": {},
   "source": [
    "Ans: \n",
    "$$ (S^-1B)w = \\lambda w$$\n",
    "*This is simply an eigen value-vector problem solved below by python solver*"
   ]
  },
  {
   "cell_type": "code",
   "execution_count": 2,
   "metadata": {},
   "outputs": [
    {
     "data": {
      "text/plain": [
       "(array([0.734, 0.   ]), array([[ 0.80926868,  0.31622777],\n",
       "        [-0.58743868,  0.9486833 ]]))"
      ]
     },
     "execution_count": 2,
     "metadata": {},
     "output_type": "execute_result"
    }
   ],
   "source": [
    "sInvMat = np.array([[0.056,-0.029],[-0.029,0.056]])\n",
    "bMat = np.array([[9,-3],[-3,1]])\n",
    "np.linalg.eig(np.dot(sInvMat,bMat))"
   ]
  },
  {
   "cell_type": "code",
   "execution_count": 3,
   "metadata": {},
   "outputs": [
    {
     "data": {
      "text/plain": [
       "[<matplotlib.lines.Line2D at 0x7f544fcff2e8>]"
      ]
     },
     "execution_count": 3,
     "metadata": {},
     "output_type": "execute_result"
    },
    {
     "data": {
      "image/png": "[encoded data removed]",
      "text/plain": [
       "<Figure size 432x288 with 1 Axes>"
      ]
     },
     "metadata": {
      "needs_background": "light"
     },
     "output_type": "display_data"
    }
   ],
   "source": [
    "w = np.array([ 0.80926868,  -0.58743868])\n",
    "plt.plot(w)"
   ]
  },
  {
   "cell_type": "markdown",
   "metadata": {},
   "source": [
    "\n",
    "### Question 3 on LDA "
   ]
  },
  {
   "cell_type": "markdown",
   "metadata": {},
   "source": [
    "**For the data on two class problem below**\n",
    "\n",
    "| i  \t| xi      \t| yi \t|\n",
    "|----\t|---------\t|----\t|\n",
    "| x1 \t| (4,2.9)   | +1 \t|\n",
    "| x2 \t| (3.5,4) \t| +1 \t|\n",
    "| x3 \t| (2.5,1) \t| -1 \t|\n",
    "| x4 \t| (2,2.1) \t| -1 \t|\n",
    "\n",
    "***"
   ]
  },
  {
   "cell_type": "markdown",
   "metadata": {},
   "source": [
    "**a) Compute $\\mu_1$ and $\\mu_−1$, and B, the between-class scatter matrix.**"
   ]
  },
  {
   "cell_type": "markdown",
   "metadata": {},
   "source": [
    "Ans: \n",
    "$$\\mu+1 = = (\\frac{4+3.5}{2},\\frac{2.9+4}{2}) =  \\begin{pmatrix} 3.75 \\\\ 3.45  \\end{pmatrix},$$\n",
    "\n",
    "$$\\mu−1 = (\\frac{2.5+2}{2},\\frac{1+2.1}{2}) = \\begin{pmatrix} 2.25 \\\\ 1.55 \\end{pmatrix},$$\n",
    "\n",
    "$$B = (\\mu_1-\\mu_2)(\\mu_1-\\mu_2)^T = \\begin{pmatrix} 1.5 \\\\ 1.9\\end{pmatrix} \\begin{pmatrix} 1.5 & 1.9 \\end{pmatrix} = \\begin{pmatrix} 2.25 & 2.85 \\\\ 2.85 & 3.61 \\end{pmatrix}.$$\n",
    "\n",
    "***"
   ]
  },
  {
   "cell_type": "markdown",
   "metadata": {},
   "source": [
    "**b) Compute S+1 and S−1, and S, the within-class scatter matrix.**"
   ]
  },
  {
   "cell_type": "markdown",
   "metadata": {},
   "source": [
    "Ans: \n",
    "$$S_1 = \\sum_{x_i --> D_1} (x_i - \\mu_1 )(x_i - \\mu_1 )^T = (x_1-\\mu_1)(x_1-\\mu_1)^T +(x_2 -\\mu_1)(x_2 -\\mu_1)^T =$$\n",
    "\n",
    "$$\\begin{pmatrix} 0.25 \\\\ -0.55  \\end{pmatrix}\\begin{pmatrix} 0.25 & -0.55 \\end{pmatrix} + \\begin{pmatrix} -0.25 \\\\ 0.55 \\end{pmatrix}\\begin{pmatrix} -0.25 & 0.55\\end{pmatrix} =$$ \n",
    "\n",
    "$$\\begin{pmatrix} 0.0625 & -0.1375 \\\\  -0.1375 & 0.3025 \\end{pmatrix}+ \\begin{pmatrix} 0.0625 & -0.1375 \\\\  -0.1375 & 0.3025 \\end{pmatrix}= \\begin{pmatrix} 0.125 & -0.275 \\\\  -0.275 & 0.605 \\end{pmatrix}$$\n",
    "\n",
    "***\n",
    "\n",
    "$$S_-1 = \\sum_{x_i --> D_-1} (x_i - \\mu_-1 )(x_i - \\mu_-1 )^T = (x_3-\\mu_-1)(x_3-\\mu_-1)^T +(x_4 -\\mu_-1)(x_4 -\\mu_-1)^T =$$ \n",
    "$$\\begin{pmatrix} 0.25 \\\\ -0.55  \\end{pmatrix}\\begin{pmatrix} 0.25 & -0.55 \\end{pmatrix} + \\begin{pmatrix} -0.25 \\\\ 0.55 \\end{pmatrix}\\begin{pmatrix} -0.25 & 0.55\\end{pmatrix} =$$ \n",
    "\n",
    "$$\\begin{pmatrix} 0.0625 & -0.1375 \\\\  -0.1375 & 0.3025 \\end{pmatrix} + \\begin{pmatrix} 0.0625 & -0.1375 \\\\  -0.1375 & 0.3025 \\end{pmatrix} = \\begin{pmatrix} 0.125 & -0.275 \\\\  -0.275 & 0.605 \\end{pmatrix}$$\n",
    "\n",
    "***\n",
    "\n",
    "$$S = \\begin{pmatrix} 0.125 & -0.275 \\\\  -0.275 & 0.605 \\end{pmatrix} +\\begin{pmatrix} 0.125 & -0.275 \\\\  -0.275 & 0.605 \\end{pmatrix} = \\begin{pmatrix}  0.25 & -0.55  \\\\   -0.55 & 1.21  \\end{pmatrix}$$\n",
    "\n",
    "***"
   ]
  },
  {
   "cell_type": "markdown",
   "metadata": {},
   "source": [
    "**c) Find the best direction w that discriminates between the classes.**"
   ]
  },
  {
   "cell_type": "code",
   "execution_count": 4,
   "metadata": {},
   "outputs": [
    {
     "data": {
      "text/plain": [
       "(array([-1.55825123e+17,  0.00000000e+00]), array([[-0.91036648,  0.78488277],\n",
       "        [-0.41380294, -0.61964429]]))"
      ]
     },
     "execution_count": 4,
     "metadata": {},
     "output_type": "execute_result"
    }
   ],
   "source": [
    "matS = np.array([[0.25,-0.55],[-0.55,1.21]])\n",
    "invMatS = np.linalg.inv(matS)\n",
    "matB = np.array([[2.25,2.85],[2.85,3.61]])\n",
    "np.linalg.eig(np.dot(invMatS,matB))"
   ]
  },
  {
   "cell_type": "code",
   "execution_count": 5,
   "metadata": {},
   "outputs": [
    {
     "data": {
      "text/plain": [
       "[<matplotlib.lines.Line2D at 0x7f544fc5fe48>]"
      ]
     },
     "execution_count": 5,
     "metadata": {},
     "output_type": "execute_result"
    },
    {
     "data": {
      "image/png": "[encoded data removed]",
      "text/plain": [
       "<Figure size 432x288 with 1 Axes>"
      ]
     },
     "metadata": {
      "needs_background": "light"
     },
     "output_type": "display_data"
    }
   ],
   "source": [
    "w = np.array([ -0.91036648, -0.41380294])\n",
    "plt.plot(w)"
   ]
  },
  {
   "cell_type": "markdown",
   "metadata": {},
   "source": [
    "**d) Having found the direction w, find the point on w that best separates the two classes.**"
   ]
  },
  {
   "cell_type": "markdown",
   "metadata": {},
   "source": [
    "The point that best separates the two classes maybe the midpoint of the eculidian distance between the two means of the two classes when they are projected onto w. "
   ]
  },
  {
   "cell_type": "markdown",
   "metadata": {},
   "source": [
    "$\\mu_+1$ projected on w = -4.841 , $\\mu_-1$ projected on w = -2.9628 <br>\n",
    "**Then, the point on w that best separtes the two classes is -3.9019**"
   ]
  },
  {
   "cell_type": "markdown",
   "metadata": {},
   "source": [
    "### Question 4: Midterm Question Fall 2017"
   ]
  },
  {
   "cell_type": "markdown",
   "metadata": {},
   "source": [
    "**For the data on two class problem below**\n",
    "\n",
    "| i  \t| xi      \t| yi \t|\n",
    "|----\t|---------\t|----\t|\n",
    "| x1 \t| (1,1)     | +1 \t|\n",
    "| x2 \t| (2,1) \t| +1 \t|\n",
    "| x3 \t| (1,2) \t| +1 \t|\n",
    "| x4 \t| (2,2) \t| -1 \t|\n",
    "| x5    | (3,2)     | -1    |\n",
    "\n",
    "***"
   ]
  },
  {
   "cell_type": "markdown",
   "metadata": {},
   "source": [
    "**a) Compute $\\mu_1$ and $\\mu_−1$ and B, the between-class scatter matrix.**"
   ]
  },
  {
   "cell_type": "markdown",
   "metadata": {},
   "source": [
    "Ans: \n",
    "$$\\mu+1 = = (\\frac{1+2+1}{3},\\frac{1+1+2}{3}) =  \\begin{pmatrix} 1.33 \\\\ 1.33  \\end{pmatrix},$$\n",
    "\n",
    "$$\\mu−1 = (\\frac{2+3}{2},\\frac{2+2}{2}) = \\begin{pmatrix} 2.5 \\\\ 2 \\end{pmatrix},$$\n",
    "\n",
    "$$B = (\\mu_1-\\mu_2)(\\mu_1-\\mu_2)^T = \\begin{pmatrix} -1.17 \\\\ -0.67\\end{pmatrix} \\begin{pmatrix} -1.17 & -0.67 \\end{pmatrix} = \\begin{pmatrix} 1.3689 & 0.7839 \\\\ 0.7839 & 0.4489 \\end{pmatrix}.$$\n",
    "\n",
    "***"
   ]
  },
  {
   "cell_type": "markdown",
   "metadata": {},
   "source": [
    "**b) Compute S+1 and S−1, and S, the within-class scatter matrix.**"
   ]
  },
  {
   "cell_type": "markdown",
   "metadata": {},
   "source": [
    "Ans: \n",
    "$$S_1 = \\sum_{x_i --> D_1} (x_i - \\mu_1 )(x_i - \\mu_1 )^T = (x_1-\\mu_1)(x_1-\\mu_1)^T +(x_2 -\\mu_1)(x_2 -\\mu_1)^T+ (x_3 -\\mu_1)(x_3 -\\mu_1)^T=$$\n",
    "\n",
    "$$\\begin{pmatrix} -0.33 \\\\ -0.33  \\end{pmatrix}\\begin{pmatrix} -0.33 & -0.33 \\end{pmatrix} + \n",
    "\\begin{pmatrix} 0.67 \\\\ -0.33 \\end{pmatrix}\\begin{pmatrix} 0.67 & -0.33\\end{pmatrix} + \n",
    "\\begin{pmatrix} -0.33 \\\\ 0.67 \\end{pmatrix}\\begin{pmatrix} -0.33 & 0.67\\end{pmatrix} =$$ \n",
    "\n",
    "$$\\begin{pmatrix} 0.1089 & 0.1089 \\\\  0.1089 & 0.1089 \\end{pmatrix}+\n",
    "\\begin{pmatrix} 0.4489 & -0.221 \\\\ -0.221  & 0.1089 \\end{pmatrix}+\n",
    "\\begin{pmatrix} 0.1089 & -0.221 \\\\ -0.221  & 0.4489 \\end{pmatrix} = \n",
    "\\begin{pmatrix} 0.667 & -0.33 \\\\  -0.33 & 0.667 \\end{pmatrix}$$\n",
    "\n",
    "***\n",
    "\n",
    "$$S_-1 = \\sum_{x_i --> D_-1} (x_i - \\mu_-1 )(x_i - \\mu_-1 )^T = \n",
    "(x_4-\\mu_-1)(x_4-\\mu_-1)^T +(x_5 -\\mu_-1)(x_5 -\\mu_-1)^T =$$\n",
    "$$\\begin{pmatrix} -0.5 \\\\ 0  \\end{pmatrix}\\begin{pmatrix} -0.5 & 0 \\end{pmatrix} +\n",
    "\\begin{pmatrix} 0.5 \\\\ 0 \\end{pmatrix}\\begin{pmatrix} 0.5 & 0 \\end{pmatrix} =$$\n",
    "\n",
    "$$\\begin{pmatrix} 0.25 & 0 \\\\ 0  & 0 \\end{pmatrix} +\n",
    "\\begin{pmatrix} 0.25 & 0 \\\\ 0  & 0 \\end{pmatrix} = \n",
    "\\begin{pmatrix} 0.5 & 0 \\\\ 0  & 0 \\end{pmatrix}$$\n",
    "\n",
    "***\n",
    "\n",
    "$$S = \\begin{pmatrix} 0.667 & -0.33 \\\\  -0.33 & 0.667 \\end{pmatrix} +\n",
    "\\begin{pmatrix} 0.5 & 0 \\\\ 0  & 0 \\end{pmatrix} = \n",
    "\\begin{pmatrix}  1.167 & -0.33  \\\\   -0.33 & 0.667  \\end{pmatrix}$$\n",
    "\n",
    "***"
   ]
  },
  {
   "cell_type": "markdown",
   "metadata": {},
   "source": [
    "**c) Visually sketch the best direction that splits the data into the two classes**"
   ]
  },
  {
   "cell_type": "code",
   "execution_count": 6,
   "metadata": {},
   "outputs": [
    {
     "data": {
      "text/plain": [
       "(array([ 2.91908695e+00, -2.22044605e-16]), array([[ 0.65092464, -0.49693748],\n",
       "        [ 0.75914235,  0.86778635]]))"
      ]
     },
     "execution_count": 6,
     "metadata": {},
     "output_type": "execute_result"
    }
   ],
   "source": [
    "matrixS = np.array([[1.167,-0.33],[-0.33,0.667]])\n",
    "invMatrixS = np.linalg.inv(matrixS)\n",
    "matrixB = np.array([[1.3689,0.7839],[0.7839,0.4489]])\n",
    "np.linalg.eig(np.dot(invMatrixS,matrixB))"
   ]
  },
  {
   "cell_type": "code",
   "execution_count": 7,
   "metadata": {},
   "outputs": [
    {
     "data": {
      "text/plain": [
       "[<matplotlib.lines.Line2D at 0x7f544fc48278>]"
      ]
     },
     "execution_count": 7,
     "metadata": {},
     "output_type": "execute_result"
    },
    {
     "data": {
      "image/png": "[encoded data removed]",
      "text/plain": [
       "<Figure size 432x288 with 1 Axes>"
      ]
     },
     "metadata": {
      "needs_background": "light"
     },
     "output_type": "display_data"
    }
   ],
   "source": [
    "w = np.array([ 0.65092464, 0.75914235])\n",
    "plt.plot(w)"
   ]
  }
 ],
 "metadata": {
  "kernelspec": {
   "display_name": "Python 3",
   "language": "python",
   "name": "python3"
  },
  "language_info": {
   "codemirror_mode": {
    "name": "ipython",
    "version": 3
   },
   "file_extension": ".py",
   "mimetype": "text/x-python",
   "name": "python",
   "nbconvert_exporter": "python",
   "pygments_lexer": "ipython3",
   "version": "3.7.1"
  }
 },
 "nbformat": 4,
 "nbformat_minor": 2
}
