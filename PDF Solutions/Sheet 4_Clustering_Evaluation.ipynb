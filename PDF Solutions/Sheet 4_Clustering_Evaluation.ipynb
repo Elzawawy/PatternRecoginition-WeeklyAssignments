{
 "cells": [
  {
   "cell_type": "markdown",
   "metadata": {},
   "source": [
    "# Sheet#4 Clustering Evaluation"
   ]
  },
  {
   "cell_type": "markdown",
   "metadata": {},
   "source": [
    "## 1. Perform clustering on the following data"
   ]
  },
  {
   "cell_type": "code",
   "execution_count": 41,
   "metadata": {},
   "outputs": [],
   "source": [
    "#imports cell \n",
    "import numpy as np \n",
    "import matplotlib.pyplot as plt\n",
    "from mpl_toolkits.mplot3d import Axes3D\n",
    "from copy import deepcopy\n",
    "from sklearn.metrics.pairwise import rbf_kernel as rbf\n",
    "from sklearn.neighbors import NearestNeighbors as nn\n",
    "import pandas as pd \n",
    "from math import sqrt, floor"
   ]
  },
  {
   "cell_type": "code",
   "execution_count": 2,
   "metadata": {},
   "outputs": [],
   "source": [
    "#load data on 2D graph onto 2D array for usage.\n",
    "clustering_dataSet = np.array([[2,4],[3,3],[3,4],[5,4],[5,6],[5,8],[6,4],[6,5],[6,7],[7,3],[7,4],[8,2],[9,4],[10,6],[10,7],[10,8],[11,5],[11,8],[12,7],[13,6],[13,7],[14,6],[15,4],[15,5]])"
   ]
  },
  {
   "cell_type": "markdown",
   "metadata": {},
   "source": [
    "### a. Using Kmeans: set K=2,3,4,5,6. Report different clustering results."
   ]
  },
  {
   "cell_type": "code",
   "execution_count": 38,
   "metadata": {},
   "outputs": [],
   "source": [
    "def naive_sharding(ds, k):\n",
    "    \"\"\"\n",
    "    Create cluster centroids using deterministic naive sharding algorithm.\n",
    "    \n",
    "    Parameters\n",
    "    ----------\n",
    "    ds : numpy array\n",
    "        The dataset to be used for centroid initialization.\n",
    "    k : int\n",
    "        The desired number of clusters for which centroids are required.\n",
    "    Returns\n",
    "    -------\n",
    "    centroids : numpy array\n",
    "        Collection of k centroids as a numpy array.\n",
    "    \"\"\"\n",
    "    \n",
    "    n = np.shape(ds)[1]\n",
    "    m = np.shape(ds)[0]\n",
    "    centroids = np.mat(np.zeros((k,n)))\n",
    "\n",
    "    # Sum all elements of each row, add as col to original dataset, sort\n",
    "    composite = np.mat(np.sum(ds, axis=1))\n",
    "    ds = np.append(composite.T, ds, axis=1)\n",
    "    ds.sort(axis=0)\n",
    "\n",
    "    # Step value for dataset sharding\n",
    "    step = floor(m/k)\n",
    "\n",
    "    # Vectorize mean ufunc for numpy array\n",
    "    vfunc = np.vectorize(_get_mean)\n",
    "\n",
    "    # Divide matrix rows equally by k-1 (so that there are k matrix shards)\n",
    "    # Sum columns of shards, get means; these columnar means are centroids\n",
    "    for j in range(k):\n",
    "        if j == k-1:\n",
    "            centroids[j:] = vfunc(np.sum(ds[j*step:,1:], axis=0), step)\n",
    "        else:\n",
    "            centroids[j:] = vfunc(np.sum(ds[j*step:(j+1)*step,1:], axis=0), step)\n",
    "\n",
    "    return centroids\n",
    "\n",
    "def _get_mean(sums, step):\n",
    "    \"\"\"\n",
    "    Vectorizable ufunc for getting means of summed shard columns.\n",
    "    \n",
    "    Parameters\n",
    "    ----------\n",
    "    sums : float\n",
    "        The summed shard columns.\n",
    "    step : int\n",
    "        The number of instances per shard.\n",
    "    Returns\n",
    "    -------\n",
    "    sums/step (means) : numpy array\n",
    "        The means of the shard columns.\n",
    "    \"\"\"\n",
    "\n",
    "    return sums/step"
   ]
  },
  {
   "cell_type": "code",
   "execution_count": 44,
   "metadata": {},
   "outputs": [],
   "source": [
    "#my k-means implementation\n",
    "def kmeans(data, num_clusters = 2, tolerance=0.0001, max_iter = 300, init_seed = None):\n",
    "    iter_num = 0\n",
    "    # Number of training data\n",
    "    n = data.shape[0]\n",
    "    # Number of features in the data\n",
    "    c = data.shape[1]\n",
    "    # Generate random centers, here i use standard devation \n",
    "    #and mean to ensure it represents the whole data\n",
    "    if(init_seed is None):\n",
    "        mean = np.mean(data, axis = 0)\n",
    "        std = np.std(data, axis = 0)\n",
    "        centroids = np.random.randn(num_clusters,c)*std + mean\n",
    "    elif(init_seed == 'naive_sharding'):\n",
    "        centroids = naive_sharding(data,num_clusters)\n",
    "        print(centroids)\n",
    "    else:\n",
    "        centroids = init_seed\n",
    "    print(centroids)\n",
    "    # to store old centers        \n",
    "    old_centroids = np.zeros(centroids.shape) \n",
    "    # Store new centers\n",
    "    new_centroids = deepcopy(centroids) \n",
    "    #generate error vector\n",
    "    error = np.linalg.norm(new_centroids - old_centroids)\n",
    "    print(error)\n",
    "    #create clusters array\n",
    "    clusters = np.zeros(n)\n",
    "    #create distaces array\n",
    "    distances = np.zeros((n,num_clusters))\n",
    "    # When, after an update, the estimate of that center stays the same, exit loop\n",
    "    while error > tolerance and iter_num < max_iter:\n",
    "        iter_num +=1\n",
    "        # Measure the distance to every center\n",
    "        for i in range(num_clusters):\n",
    "            distances[:,i] = np.linalg.norm(data - new_centroids[i], axis=1)\n",
    "        # Assign all training data to closest center\n",
    "        clusters = np.argmin(distances, axis = 1)\n",
    "        print(clusters)\n",
    "        old_centroids = deepcopy(new_centroids)\n",
    "        # Calculate mean for every cluster and update the center\n",
    "        for i in range(num_clusters):\n",
    "            new_centroids[i] = np.mean(data[clusters == i], axis=0)\n",
    "            #np.nan_to_num(new_centroids[i], copy=False)\n",
    "        print(new_centroids)\n",
    "        error = np.linalg.norm(new_centroids - old_centroids)\n",
    "        print(error)\n",
    "    return new_centroids,clusters"
   ]
  },
  {
   "cell_type": "code",
   "execution_count": 46,
   "metadata": {},
   "outputs": [
    {
     "name": "stdout",
     "output_type": "stream",
     "text": [
      "[[ 5.25        3.83333333]\n",
      " [11.91666667  6.75      ]]\n",
      "[[ 5.25        3.83333333]\n",
      " [11.91666667  6.75      ]]\n",
      "15.160026018740497\n",
      "[0 0 0 0 0 0 0 0 0 0 0 0 0 1 1 1 1 1 1 1 1 1 1 1]\n",
      "[[ 5.53846154  4.46153846]\n",
      " [12.18181818  6.27272727]]\n",
      "0.8808781552861388\n",
      "[0 0 0 0 0 0 0 0 0 0 0 0 0 1 1 1 1 1 1 1 1 1 1 1]\n",
      "[[ 5.53846154  4.46153846]\n",
      " [12.18181818  6.27272727]]\n",
      "0.0\n",
      "______\n",
      "[[ 4.375  3.5  ]\n",
      " [ 8.375  5.125]\n",
      " [13.     7.25 ]]\n",
      "[[ 4.375  3.5  ]\n",
      " [ 8.375  5.125]\n",
      " [13.     7.25 ]]\n",
      "18.691157668801576\n",
      "[0 0 0 0 0 1 0 0 1 1 1 1 1 1 1 2 1 2 2 2 2 2 2 2]\n",
      "[[ 4.28571429  4.28571429]\n",
      " [ 8.11111111  5.11111111]\n",
      " [12.875       6.375     ]]\n",
      "1.2150716540453903\n",
      "[0 0 0 0 0 0 0 0 1 1 1 1 1 1 1 2 2 2 2 2 2 2 2 2]\n",
      "[[ 4.375       4.75      ]\n",
      " [ 8.14285714  4.71428571]\n",
      " [12.66666667  6.22222222]]\n",
      "0.6698919289878432\n",
      "[0 0 0 0 0 0 0 0 0 1 1 1 1 1 2 2 2 2 2 2 2 2 2 2]\n",
      "[[ 4.55555556  5.        ]\n",
      " [ 8.2         3.8       ]\n",
      " [12.4         6.3       ]]\n",
      "1.0057059589852908\n",
      "[0 0 0 0 0 0 0 0 0 1 1 1 1 2 2 2 2 2 2 2 2 2 2 2]\n",
      "[[ 4.55555556  5.        ]\n",
      " [ 7.75        3.25      ]\n",
      " [12.18181818  6.27272727]]\n",
      "0.7438730452422752\n",
      "[0 0 0 0 0 0 0 0 0 1 1 1 1 2 2 2 2 2 2 2 2 2 2 2]\n",
      "[[ 4.55555556  5.        ]\n",
      " [ 7.75        3.25      ]\n",
      " [12.18181818  6.27272727]]\n",
      "0.0\n",
      "______\n",
      "[[ 3.83333333  3.33333333]\n",
      " [ 6.66666667  4.33333333]\n",
      " [10.16666667  6.        ]\n",
      " [13.66666667  7.5       ]]\n",
      "[[ 3.83333333  3.33333333]\n",
      " [ 6.66666667  4.33333333]\n",
      " [10.16666667  6.        ]\n",
      " [13.66666667  7.5       ]]\n",
      "21.712131785402065\n",
      "[0 0 0 0 1 1 1 1 1 1 1 1 2 2 2 2 2 2 3 3 3 3 3 3]\n",
      "[[ 3.25        3.75      ]\n",
      " [ 6.25        4.875     ]\n",
      " [10.16666667  6.33333333]\n",
      " [13.66666667  5.83333333]]\n",
      "1.9671786056854796\n",
      "[0 0 0 1 1 1 1 1 1 1 1 1 2 2 2 2 2 2 2 3 3 3 3 3]\n",
      "[[ 2.66666667  3.66666667]\n",
      " [ 6.11111111  4.77777778]\n",
      " [10.42857143  6.42857143]\n",
      " [14.          5.6       ]]\n",
      "0.7868827490937687\n",
      "[0 0 0 1 1 1 1 1 1 1 1 1 2 2 2 2 2 2 2 3 3 3 3 3]\n",
      "[[ 2.66666667  3.66666667]\n",
      " [ 6.11111111  4.77777778]\n",
      " [10.42857143  6.42857143]\n",
      " [14.          5.6       ]]\n",
      "0.0\n",
      "______\n",
      "[[ 3.25  3.  ]\n",
      " [ 5.5   4.  ]\n",
      " [ 7.    4.5 ]\n",
      " [ 9.75  5.75]\n",
      " [26.   14.5 ]]\n",
      "[[ 3.25  3.  ]\n",
      " [ 5.5   4.  ]\n",
      " [ 7.    4.5 ]\n",
      " [ 9.75  5.75]\n",
      " [26.   14.5 ]]\n",
      "33.903355291180254\n",
      "[0 0 0 1 1 1 1 1 2 2 2 2 3 3 3 3 3 3 3 3 3 3 3 3]\n",
      "[[ 2.66666667  3.66666667]\n",
      " [ 5.4         5.4       ]\n",
      " [ 7.          4.        ]\n",
      " [11.91666667  6.08333333]\n",
      " [        nan         nan]]\n",
      "nan\n",
      "______\n",
      "[[ 3.25  3.  ]\n",
      " [ 5.5   4.  ]\n",
      " [ 7.    4.5 ]\n",
      " [ 9.75  5.75]\n",
      " [11.75  6.75]\n",
      " [14.25  7.75]]\n",
      "[[ 3.25  3.  ]\n",
      " [ 5.5   4.  ]\n",
      " [ 7.    4.5 ]\n",
      " [ 9.75  5.75]\n",
      " [11.75  6.75]\n",
      " [14.25  7.75]]\n",
      "26.64465237153602\n",
      "[0 0 0 1 1 1 1 1 2 2 2 2 3 3 3 4 3 4 4 4 4 5 5 5]\n",
      "[[ 2.66666667  3.66666667]\n",
      " [ 5.4         5.4       ]\n",
      " [ 7.          4.        ]\n",
      " [10.          5.5       ]\n",
      " [11.8         7.2       ]\n",
      " [14.66666667  5.        ]]\n",
      "3.327286181459799\n",
      "[0 0 0 1 1 1 2 1 1 2 2 2 3 3 3 4 3 4 4 4 4 5 5 5]\n",
      "[[ 2.66666667  3.66666667]\n",
      " [ 5.4         6.        ]\n",
      " [ 7.          3.25      ]\n",
      " [10.          5.5       ]\n",
      " [11.8         7.2       ]\n",
      " [14.66666667  5.        ]]\n",
      "0.9604686356149271\n",
      "[0 0 0 1 1 1 2 1 1 2 2 2 3 3 3 4 3 4 4 4 4 5 5 5]\n",
      "[[ 2.66666667  3.66666667]\n",
      " [ 5.4         6.        ]\n",
      " [ 7.          3.25      ]\n",
      " [10.          5.5       ]\n",
      " [11.8         7.2       ]\n",
      " [14.66666667  5.        ]]\n",
      "0.0\n",
      "______\n"
     ]
    },
    {
     "data": {
      "image/png": "[encoded data removed]",
      "text/plain": [
       "<Figure size 432x288 with 1 Axes>"
      ]
     },
     "metadata": {
      "needs_background": "light"
     },
     "output_type": "display_data"
    },
    {
     "data": {
      "image/png": "[encoded data removed]",
      "text/plain": [
       "<Figure size 432x288 with 1 Axes>"
      ]
     },
     "metadata": {
      "needs_background": "light"
     },
     "output_type": "display_data"
    },
    {
     "data": {
      "image/png": "[encoded data removed]",
      "text/plain": [
       "<Figure size 432x288 with 1 Axes>"
      ]
     },
     "metadata": {
      "needs_background": "light"
     },
     "output_type": "display_data"
    },
    {
     "data": {
      "image/png": "[encoded data removed]",
      "text/plain": [
       "<Figure size 432x288 with 1 Axes>"
      ]
     },
     "metadata": {
      "needs_background": "light"
     },
     "output_type": "display_data"
    },
    {
     "data": {
      "image/png": "[encoded data removed]",
      "text/plain": [
       "<Figure size 432x288 with 1 Axes>"
      ]
     },
     "metadata": {
      "needs_background": "light"
     },
     "output_type": "display_data"
    },
    {
     "data": {
      "text/plain": [
       "<Figure size 432x288 with 0 Axes>"
      ]
     },
     "metadata": {},
     "output_type": "display_data"
    }
   ],
   "source": [
    "colors=['red', 'blue', 'green','black','yellow','gray']\n",
    "kmeans_clusters = []\n",
    "for k in range(2,7):\n",
    "    centroids,clusters = kmeans(clustering_dataSet,num_clusters=k,init_seed='naive_sharding')\n",
    "    print(\"______\")\n",
    "    kmeans_clusters.append(clusters)\n",
    "    # Plot the data and the centers generated as random\n",
    "    for i in range(clustering_dataSet.shape[0]):\n",
    "        plt.scatter(clustering_dataSet[i, 0], clustering_dataSet[i,1],color = colors[clusters[i]]);\n",
    "    #plt.scatter(centroids[:,0], centroids[:,1], marker='*', c='g');\n",
    "    plt.figure();"
   ]
  },
  {
   "cell_type": "markdown",
   "metadata": {},
   "source": [
    "### b. K-ways normalized: cut k=2,3,4,5,6"
   ]
  },
  {
   "cell_type": "code",
   "execution_count": 22,
   "metadata": {},
   "outputs": [],
   "source": [
    "def SpectralClustering(data, num_clusters=2, affinity='rbf', gamma=1.0, num_neighbors=1):\n",
    "    if(affinity == 'rbf'):\n",
    "        sim_matrix = rbf(data,data,gamma)\n",
    "    elif(affinity == 'knn'):\n",
    "        nearest_neigbhor = nn(n_neighbors=num_neighbors)\n",
    "        nearest_neigbhor.fit(data)\n",
    "        sim_matrix = nearest_neigbhor.kneighbors_graph(data, mode='connectivity').toarray()\n",
    "        \n",
    "    deg_matrix = np.diag(np.sum(sim_matrix, axis=1))\n",
    "    laplace_matrix = deg_matrix - sim_matrix\n",
    "    asym_laplace_matrix = np.dot(np.linalg.inv(deg_matrix),laplace_matrix) \n",
    "    eig_values,eig_vectors = np.linalg.eig(asym_laplace_matrix)\n",
    "    idx = np.real(eig_values).argsort()[:num_clusters]\n",
    "    eig_vectors = np.real(eig_vectors[:,idx])\n",
    "    rows_norm = np.linalg.norm(eig_vectors, axis=1)\n",
    "    normalized_eig_vectors = (eig_vectors.T / rows_norm).T\n",
    "    centroids,clusters = kmeans(normalized_eig_vectors, num_clusters=num_clusters)\n",
    "    return normalized_eig_vectors,centroids,clusters"
   ]
  },
  {
   "cell_type": "markdown",
   "metadata": {},
   "source": [
    "#### i. Use RBF kernel with gamma = {0.01,0.1}. Report the different clustering results."
   ]
  },
  {
   "cell_type": "code",
   "execution_count": 23,
   "metadata": {},
   "outputs": [
    {
     "name": "stdout",
     "output_type": "stream",
     "text": [
      "[[ 0.93776607 -0.95498385]\n",
      " [ 0.84839741 -1.27387503]]\n",
      "2.0332080829844994\n",
      "[0 0 0 0 0 0 0 0 0 0 0 0 0 0 0 0 0 0 0 0 0 0 0 0]\n",
      "[[0.75638154 0.00911648]\n",
      " [0.         0.        ]]\n",
      "1.8179454187609363\n",
      "[0 0 0 0 0 0 0 0 0 0 0 0 0 0 0 0 0 0 0 0 0 0 0 0]\n",
      "[[0.75638154 0.00911648]\n",
      " [0.         0.        ]]\n",
      "0.0\n",
      "______\n",
      "[[ 0.60324882 -0.10962647  0.35319053]\n",
      " [ 0.60356059 -0.24259078  0.07386747]\n",
      " [ 0.5105554   0.42740019 -0.81731183]]\n",
      "1.4284953982556927\n",
      "[0 0 0 0 2 2 0 2 2 0 0 0 0 1 2 2 1 1 1 1 1 1 0 0]\n",
      "[[ 0.61153425  0.28921876  0.4726498 ]\n",
      " [ 0.67166126 -0.59747323 -0.15927356]\n",
      " [ 0.60800696  0.20410125 -0.6273231 ]]\n",
      "0.6736509584874638\n",
      "[0 0 0 0 2 2 0 2 2 0 0 0 0 1 2 2 1 2 1 1 1 1 1 1]\n",
      "[[ 0.65864152  0.49657113  0.43384241]\n",
      " [ 0.62047898 -0.63342396  0.1151258 ]\n",
      " [ 0.59784883  0.11742182 -0.64361338]]\n",
      "0.3657992447375523\n",
      "[0 0 0 0 2 2 0 0 2 0 0 0 0 2 2 2 1 2 1 1 1 1 1 1]\n",
      "[[ 0.67431483  0.50230399  0.37361795]\n",
      " [ 0.58748526 -0.6751901   0.18848903]\n",
      " [ 0.60300031 -0.0104297  -0.67647262]]\n",
      "0.1719678485181928\n",
      "[0 0 0 0 2 2 0 0 2 0 0 0 0 2 2 2 1 2 1 1 1 1 1 1]\n",
      "[[ 0.67431483  0.50230399  0.37361795]\n",
      " [ 0.58748526 -0.6751901   0.18848903]\n",
      " [ 0.60300031 -0.0104297  -0.67647262]]\n",
      "0.0\n",
      "______\n",
      "[[ 0.34725542  0.96322357  0.20719609  0.15319268]\n",
      " [ 0.65845523 -0.84870986  0.22328631  0.23996201]\n",
      " [ 0.32186222 -0.42251095  0.41202487  0.99409102]\n",
      " [ 0.32697628 -0.0604264  -0.06182876 -0.09812997]]\n",
      "1.9849946618440142\n",
      "[3 0 0 0 3 3 0 0 3 2 0 2 2 3 3 3 1 3 1 1 1 1 1 3]\n",
      "[[ 0.60828019  0.54571033  0.21439101  0.06577824]\n",
      " [ 0.56729034 -0.62454296  0.10337307 -0.15991306]\n",
      " [ 0.48642508  0.12406257  0.44861678  0.71384859]\n",
      " [ 0.52348319 -0.01031277 -0.43008282 -0.11271138]]\n",
      "1.0322953607995953\n",
      "[0 0 0 0 3 3 0 0 3 2 2 2 2 3 3 3 2 3 1 1 1 1 1 1]\n",
      "[[ 0.55523654  0.5853486   0.20969222 -0.16817108]\n",
      " [ 0.5115285  -0.65193691  0.1566986  -0.33666175]\n",
      " [ 0.55996145  0.05034252  0.35319903  0.66923888]\n",
      " [ 0.57480709 -0.00654366 -0.65466438  0.03501957]]\n",
      "0.4403739060037734\n",
      "[0 0 0 0 3 3 2 0 3 2 2 2 2 3 3 3 2 3 1 1 1 1 1 1]\n",
      "[[ 0.52745693  0.60076674  0.20126206 -0.2904453 ]\n",
      " [ 0.5115285  -0.65193691  0.1566986  -0.33666175]\n",
      " [ 0.58232364  0.12666174  0.33630636  0.63156573]\n",
      " [ 0.57480709 -0.00654366 -0.65466438  0.03501957]]\n",
      "0.1551154293676683\n",
      "[0 0 0 0 3 3 2 0 3 2 2 2 2 3 3 3 2 3 1 1 1 1 1 1]\n",
      "[[ 0.52745693  0.60076674  0.20126206 -0.2904453 ]\n",
      " [ 0.5115285  -0.65193691  0.1566986  -0.33666175]\n",
      " [ 0.58232364  0.12666174  0.33630636  0.63156573]\n",
      " [ 0.57480709 -0.00654366 -0.65466438  0.03501957]]\n",
      "0.0\n",
      "______\n",
      "[[ 0.33472763  0.62382069  0.397737   -0.26555931 -0.49047018]\n",
      " [ 0.55554562 -0.21610504 -0.24228093  0.44223165 -0.29112022]\n",
      " [ 0.60109349  0.10185252 -0.11740227 -0.43820634 -0.47890555]\n",
      " [ 0.54741202  0.20336798 -0.93195761 -0.12184132  0.21568187]\n",
      " [ 0.37589851 -0.06833083 -0.62105337 -0.59363987  0.70710812]]\n",
      "2.264218208996622\n",
      "[0 0 0 0 2 2 1 1 2 1 1 1 1 1 3 3 1 4 4 1 4 2 2 2]\n",
      "[[ 0.43996232  0.58102261  0.26872802 -0.40332207  0.29486458]\n",
      " [ 0.61541498  0.02789664  0.18300775  0.48450398 -0.03356143]\n",
      " [ 0.39388738 -0.12188101 -0.05919516 -0.28978397 -0.45344403]\n",
      " [ 0.54616227 -0.2561025  -0.69071223  0.17798765  0.32842842]\n",
      " [ 0.48549599 -0.47529698 -0.36325615 -0.12199647  0.57480622]]\n",
      "1.3972892546254572\n",
      "[0 0 0 0 2 2 1 1 2 1 1 1 1 3 3 3 1 4 4 4 4 4 2 2]\n",
      "[[ 0.43996232  0.58102261  0.26872802 -0.40332207  0.29486458]\n",
      " [ 0.60110224  0.17900221  0.26589944  0.5787822  -0.09638855]\n",
      " [ 0.37545618 -0.00817538 -0.12067944 -0.25590006 -0.5683096 ]\n",
      " [ 0.60493171 -0.26720213 -0.57316473  0.29047132  0.25883396]\n",
      " [ 0.51021599 -0.56576887 -0.14353976 -0.20631424  0.41966488]]\n",
      "0.4441575244710621\n",
      "[0 0 0 0 2 2 1 1 2 1 1 1 1 3 3 3 1 3 4 4 4 4 2 2]\n",
      "[[ 0.43996232  0.58102261  0.26872802 -0.40332207  0.29486458]\n",
      " [ 0.60110224  0.17900221  0.26589944  0.5787822  -0.09638855]\n",
      " [ 0.37545618 -0.00817538 -0.12067944 -0.25590006 -0.5683096 ]\n",
      " [ 0.56377876 -0.28295743 -0.58187269  0.2140762   0.33712522]\n",
      " [ 0.52769001 -0.62465527 -0.02742556 -0.25411551  0.38158136]]\n",
      "0.1870137177520661\n",
      "[0 0 0 0 2 2 1 1 2 1 1 1 1 3 3 3 1 3 4 4 4 4 2 2]\n",
      "[[ 0.43996232  0.58102261  0.26872802 -0.40332207  0.29486458]\n",
      " [ 0.60110224  0.17900221  0.26589944  0.5787822  -0.09638855]\n",
      " [ 0.37545618 -0.00817538 -0.12067944 -0.25590006 -0.5683096 ]\n",
      " [ 0.56377876 -0.28295743 -0.58187269  0.2140762   0.33712522]\n",
      " [ 0.52769001 -0.62465527 -0.02742556 -0.25411551  0.38158136]]\n",
      "0.0\n",
      "______\n",
      "[[ 0.30986614  0.19869295 -0.74244456 -0.52192331  0.15841899 -0.00514843]\n",
      " [ 0.38521098 -0.33804815  0.1184787   0.04371683 -0.02372619 -0.58462206]\n",
      " [ 0.59289322  0.01973659  0.38917043  0.05718372  0.17712788 -0.10122895]\n",
      " [ 0.43026409 -1.06822229 -0.17862041 -0.21663955  0.28715385  0.0155144 ]\n",
      " [ 0.39996109  0.19372862 -0.45024241  0.34517158  0.03687294 -0.09016348]\n",
      " [ 0.47042528  0.20490586  0.83381815 -0.17455601  0.2024614  -0.08720953]]\n",
      "2.282034098059858\n",
      "[5 5 5 2 4 4 2 4 4 2 2 1 2 4 4 4 2 1 3 3 3 3 1 1]\n",
      "[[ 0.          0.          0.          0.          0.          0.        ]\n",
      " [ 0.3136479  -0.29329409  0.21467302 -0.0757303  -0.12254307 -0.36444785]\n",
      " [ 0.56286643  0.23372457  0.25625042  0.45924839 -0.03523187  0.24953762]\n",
      " [ 0.51322435 -0.60766933 -0.02920993 -0.2487351   0.37393487  0.07024905]\n",
      " [ 0.47332475  0.08853228 -0.44553417  0.06821403 -0.19360467  0.14122458]\n",
      " [ 0.34760402  0.53444182  0.26012565 -0.54588672  0.36086608  0.02110536]]\n",
      "1.5960904335369037\n",
      "[5 5 5 2 4 4 2 2 4 2 2 1 2 4 4 4 2 3 3 3 3 3 1 1]\n",
      "[[ 0.          0.          0.          0.          0.          0.        ]\n",
      " [ 0.29123074 -0.29583874  0.46154681 -0.096617   -0.32832695 -0.31870276]\n",
      " [ 0.56788956  0.25837138  0.20199853  0.42629414 -0.07204904  0.29520526]\n",
      " [ 0.48675936 -0.54326749 -0.12855761 -0.20160212  0.39810961 -0.04413738]\n",
      " [ 0.45254082  0.03557896 -0.49920439  0.04148826 -0.17704676  0.0698935 ]\n",
      " [ 0.34760402  0.53444182  0.26012565 -0.54588672  0.36086608  0.02110536]]\n",
      "0.39652962711235273\n",
      "[5 5 5 2 4 4 2 2 4 2 2 1 2 2 4 4 2 3 3 3 3 3 1 1]\n",
      "[[ 0.          0.          0.          0.          0.          0.        ]\n",
      " [ 0.29123074 -0.29583874  0.46154681 -0.096617   -0.32832695 -0.31870276]\n",
      " [ 0.56020391  0.20071853  0.14712813  0.41816845 -0.05256     0.34745784]\n",
      " [ 0.48675936 -0.54326749 -0.12855761 -0.20160212  0.39810961 -0.04413738]\n",
      " [ 0.4417681   0.08326502 -0.55165233 -0.02247181 -0.22922878 -0.05877298]\n",
      " [ 0.34760402  0.53444182  0.26012565 -0.54588672  0.36086608  0.02110536]]\n",
      "0.1951398887644997\n",
      "[5 5 5 2 4 4 2 2 4 2 2 1 2 2 4 4 2 3 3 3 3 3 1 1]\n",
      "[[ 0.          0.          0.          0.          0.          0.        ]\n",
      " [ 0.29123074 -0.29583874  0.46154681 -0.096617   -0.32832695 -0.31870276]\n",
      " [ 0.56020391  0.20071853  0.14712813  0.41816845 -0.05256     0.34745784]\n",
      " [ 0.48675936 -0.54326749 -0.12855761 -0.20160212  0.39810961 -0.04413738]\n",
      " [ 0.4417681   0.08326502 -0.55165233 -0.02247181 -0.22922878 -0.05877298]\n",
      " [ 0.34760402  0.53444182  0.26012565 -0.54588672  0.36086608  0.02110536]]\n",
      "0.0\n",
      "______\n",
      "[[ 0.7153626  -1.11696514]\n",
      " [ 0.62035539  2.20868364]]\n",
      "2.6499960433966976\n",
      "[1 1 1 1 1 1 1 1 1 1 1 0 0 0 0 0 0 0 0 0 0 0 0 0]\n",
      "[[ 0.73435469 -0.53679399]\n",
      " [ 0.72149687  0.68560037]]\n",
      "1.6330865045709517\n",
      "[1 1 1 1 1 1 1 1 1 1 1 1 1 0 0 0 0 0 0 0 0 0 0 0]\n",
      "[[ 0.70155644 -0.69667198]\n",
      " [ 0.75122736  0.63282108]]\n",
      "0.17408691012692176\n",
      "[1 1 1 1 1 1 1 1 1 1 1 1 1 0 0 0 0 0 0 0 0 0 0 0]\n",
      "[[ 0.70155644 -0.69667198]\n",
      " [ 0.75122736  0.63282108]]\n",
      "0.0\n",
      "______\n",
      "[[ 0.42195098  0.25514136 -0.61669636]\n",
      " [ 0.88310419 -0.28349041 -0.72500796]\n",
      " [ 0.57835231 -0.27990364  0.0442121 ]]\n",
      "1.5569594316981956\n",
      "[2 2 2 0 0 0 0 0 0 0 0 0 0 1 1 1 1 1 2 2 2 2 2 2]\n",
      "[[ 0.72447932  0.55747472 -0.24955157]\n",
      " [ 0.66873696 -0.49385834 -0.54091486]\n",
      " [ 0.49923316 -0.2548062   0.4948331 ]]\n",
      "0.8073236072550481\n",
      "[2 2 2 0 0 0 0 0 0 0 0 0 1 1 1 1 1 1 1 2 2 2 2 2]\n",
      "[[ 0.72532339  0.6080002  -0.20065936]\n",
      " [ 0.67630857 -0.4409824  -0.50852521]\n",
      " [ 0.47743824 -0.19661566  0.57737733]]\n",
      "0.13971748260052294\n",
      "[2 2 2 0 0 0 0 0 0 0 0 0 1 1 1 1 1 1 1 2 2 2 2 2]\n",
      "[[ 0.72532339  0.6080002  -0.20065936]\n",
      " [ 0.67630857 -0.4409824  -0.50852521]\n",
      " [ 0.47743824 -0.19661566  0.57737733]]\n",
      "0.0\n",
      "______\n",
      "[[ 0.41986499  0.48634441 -0.10560618  0.48998313]\n",
      " [ 0.7515616  -0.1028793  -0.47567997  0.44747492]\n",
      " [ 0.83228265  0.34864169  0.44308235  0.20147942]\n",
      " [ 0.72423284 -0.38963724  0.16964491  0.27726293]]\n",
      "1.8705971614315844\n",
      "[2 2 2 2 2 0 0 0 0 0 0 0 1 1 1 1 3 3 3 3 3 3 3 3]\n",
      "[[ 0.64777674  0.51929064 -0.2461548   0.41256931]\n",
      " [ 0.58830356 -0.25974678 -0.55343171 -0.25607068]\n",
      " [ 0.4977377   0.55168255  0.39916841 -0.31348126]\n",
      " [ 0.52578113 -0.59055204  0.16742628  0.01147789]]\n",
      "1.0962270122556315\n",
      "[2 2 2 2 0 0 0 0 0 0 0 0 0 1 1 1 1 1 3 3 3 3 3 3]\n",
      "[[ 0.65485321  0.49114557 -0.25277368  0.37810083]\n",
      " [ 0.59032614 -0.43266129 -0.47157437 -0.43881325]\n",
      " [ 0.4438579   0.51643033  0.48158447 -0.41218069]\n",
      " [ 0.49364129 -0.61544687  0.35082315  0.13800013]]\n",
      "0.37953635146839415\n",
      "[2 2 2 0 0 0 0 0 0 0 0 0 0 1 1 1 1 1 1 3 3 3 3 3]\n",
      "[[ 0.65747908  0.51206204 -0.20707589  0.34657782]\n",
      " [ 0.59466445 -0.47040485 -0.41822133 -0.43290941]\n",
      " [ 0.36477324  0.455137    0.57404455 -0.57053116]\n",
      " [ 0.46909835 -0.60671172  0.45127901  0.2462782 ]]\n",
      "0.2719932971496148\n",
      "[2 2 2 0 0 0 0 0 0 0 0 0 0 1 1 1 1 1 1 3 3 3 3 3]\n",
      "[[ 0.65747908  0.51206204 -0.20707589  0.34657782]\n",
      " [ 0.59466445 -0.47040485 -0.41822133 -0.43290941]\n",
      " [ 0.36477324  0.455137    0.57404455 -0.57053116]\n",
      " [ 0.46909835 -0.60671172  0.45127901  0.2462782 ]]\n",
      "0.0\n",
      "______\n",
      "[[ 0.65022241 -1.36930795  0.02464178 -0.0536314  -0.22549513]\n",
      " [ 0.51818068  0.80004611  0.11191264  0.12675107  0.40720739]\n",
      " [ 0.65257475  0.39044347 -0.32509795 -0.18715271  0.19454295]\n",
      " [ 0.58104511  0.26296329  0.03024165 -0.59674567 -0.03473769]\n",
      " [ 0.37877983 -0.27213712  0.06904908  0.70988151  0.45380216]]\n",
      "2.4308719268208723\n",
      "[3 3 3 1 3 3 1 2 3 1 1 4 2 2 3 3 2 3 0 0 0 4 4 4]\n",
      "[[ 0.61699692 -0.7136388   0.10027711 -0.17332732  0.00481093]\n",
      " [ 0.60838798  0.525783   -0.12840414  0.38016844  0.267973  ]\n",
      " [ 0.64867896 -0.05688645 -0.40248647  0.05581617  0.14945344]\n",
      " [ 0.42505463  0.12552913  0.01275968 -0.35132361 -0.20259021]\n",
      " [ 0.37090582 -0.32640227  0.3651233   0.47865161  0.10136655]]\n",
      "1.1816362394228221\n",
      "[3 3 3 1 3 3 1 1 3 1 1 1 2 2 2 3 2 0 0 0 0 4 4 4]\n",
      "[[ 0.59057374 -0.65613285 -0.021664   -0.27865702 -0.00403256]\n",
      " [ 0.58150872  0.48864594 -0.16455359  0.40223725  0.23414363]\n",
      " [ 0.61924136 -0.29946933 -0.50007501 -0.15243578  0.21033462]\n",
      " [ 0.39309169  0.28538714  0.14669454 -0.29389192 -0.2527027 ]\n",
      " [ 0.36947295 -0.51611803  0.600005    0.44828052 -0.06495275]]\n",
      "0.5669846715281098\n",
      "[3 3 3 1 3 3 1 1 3 1 1 1 1 2 2 2 2 0 0 0 0 4 4 4]\n",
      "[[ 0.59057374 -0.65613285 -0.021664   -0.27865702 -0.00403256]\n",
      " [ 0.57922445  0.43041817 -0.21875764  0.39900257  0.26974211]\n",
      " [ 0.6016615  -0.41380671 -0.48749734 -0.39709362  0.06373695]\n",
      " [ 0.37607375  0.395668    0.25342218 -0.24303442 -0.27764354]\n",
      " [ 0.36947295 -0.51611803  0.600005    0.44828052 -0.06495275]]\n",
      "0.3599318019043449\n",
      "[3 3 3 1 3 3 1 1 3 1 1 1 1 2 2 2 2 2 0 0 0 4 4 4]\n",
      "[[ 0.61699692 -0.7136388   0.10027711 -0.17332732  0.00481093]\n",
      " [ 0.57922445  0.43041817 -0.21875764  0.39900257  0.26974211]\n",
      " [ 0.58359004 -0.42776837 -0.46749533 -0.43660413  0.04487695]\n",
      " [ 0.37607375  0.395668    0.25342218 -0.24303442 -0.27764354]\n",
      " [ 0.36947295 -0.51611803  0.600005    0.44828052 -0.06495275]]\n",
      "0.1813440703453127\n",
      "[3 3 3 1 3 3 1 1 3 1 1 1 1 2 2 2 2 2 0 0 0 4 4 4]\n",
      "[[ 0.61699692 -0.7136388   0.10027711 -0.17332732  0.00481093]\n",
      " [ 0.57922445  0.43041817 -0.21875764  0.39900257  0.26974211]\n",
      " [ 0.58359004 -0.42776837 -0.46749533 -0.43660413  0.04487695]\n",
      " [ 0.37607375  0.395668    0.25342218 -0.24303442 -0.27764354]\n",
      " [ 0.36947295 -0.51611803  0.600005    0.44828052 -0.06495275]]\n",
      "0.0\n",
      "______\n",
      "[[ 0.59787628 -0.22569119 -0.50167855  0.2747404   0.20150211  0.06995239]\n",
      " [ 0.74552144 -0.0627467  -0.20141641  0.04042349  0.68234252 -0.66916779]\n",
      " [ 0.28494474  0.2001943  -0.40369909  0.10325686  0.07266366  0.20253291]\n",
      " [ 0.31762765 -0.62799599  0.42027119 -0.0938006  -0.34976485  0.1876513 ]\n",
      " [ 0.39868541 -0.64913462 -0.32311194  0.80518996 -0.34210472  0.39589975]\n",
      " [ 0.56313525  0.46308786 -0.44398291  0.05003512  0.12512115  0.56161717]]\n",
      "2.4788936761069005\n",
      "[2 2 2 1 2 2 1 2 2 2 2 2 5 2 2 2 0 0 1 3 1 3 3 3]\n",
      "[[ 0.54122092 -0.45430981 -0.33976944 -0.34750639  0.09398933  0.18598321]\n",
      " [ 0.52079124  0.02360025  0.01444435 -0.00902778  0.06726197 -0.57650804]\n",
      " [ 0.44489024  0.22459772 -0.07370922 -0.06341006 -0.04283016  0.10836167]\n",
      " [ 0.37184843 -0.49489921  0.45774512  0.30558135 -0.04188627 -0.03833285]\n",
      " [ 0.          0.          0.          0.          0.          0.        ]\n",
      " [ 0.4434335   0.063554   -0.42654611  0.29764686  0.37899015  0.62061167]]\n",
      "1.8467878897666126\n",
      "[2 2 2 1 2 2 1 1 2 2 2 5 5 0 0 0 0 0 1 3 1 3 3 3]\n",
      "[[ 0.51413755 -0.38079484 -0.4145424  -0.399458    0.03223343  0.34359287]\n",
      " [ 0.54263761  0.12741905 -0.01329797  0.05260113  0.00429006 -0.53666135]\n",
      " [ 0.4117074   0.39149858  0.11194017 -0.04819124 -0.10962653  0.03782009]\n",
      " [ 0.37184843 -0.49489921  0.45774512  0.30558135 -0.04188627 -0.03833285]\n",
      " [ 0.          0.          0.          0.          0.          0.        ]\n",
      " [ 0.40753921  0.15199806 -0.38142346  0.43100324  0.48680972  0.37901469]]\n",
      "0.4862881567505738\n",
      "[2 2 2 1 2 2 1 1 2 5 5 5 5 0 0 0 0 0 1 3 1 3 3 3]\n",
      "[[ 0.51413755 -0.38079484 -0.4145424  -0.399458    0.03223343  0.34359287]\n",
      " [ 0.54263761  0.12741905 -0.01329797  0.05260113  0.00429006 -0.53666135]\n",
      " [ 0.37007049  0.38918292  0.24857381 -0.23810842 -0.27293999  0.11213085]\n",
      " [ 0.37184843 -0.49489921  0.45774512  0.30558135 -0.04188627 -0.03833285]\n",
      " [ 0.          0.          0.          0.          0.          0.        ]\n",
      " [ 0.47207868  0.2752218  -0.33969211  0.47628177  0.43356179  0.09695123]]\n",
      "0.44068795749317247\n",
      "[2 2 2 1 2 2 1 1 2 5 5 5 5 0 0 0 0 0 1 3 1 3 3 3]\n",
      "[[ 0.51413755 -0.38079484 -0.4145424  -0.399458    0.03223343  0.34359287]\n",
      " [ 0.54263761  0.12741905 -0.01329797  0.05260113  0.00429006 -0.53666135]\n",
      " [ 0.37007049  0.38918292  0.24857381 -0.23810842 -0.27293999  0.11213085]\n",
      " [ 0.37184843 -0.49489921  0.45774512  0.30558135 -0.04188627 -0.03833285]\n",
      " [ 0.          0.          0.          0.          0.          0.        ]\n",
      " [ 0.47207868  0.2752218  -0.33969211  0.47628177  0.43356179  0.09695123]]\n",
      "0.0\n",
      "______\n"
     ]
    },
    {
     "name": "stderr",
     "output_type": "stream",
     "text": [
      "/home/zawawy/Public/anaconda3/lib/python3.7/site-packages/numpy/core/fromnumeric.py:2920: RuntimeWarning: Mean of empty slice.\n",
      "  out=out, **kwargs)\n",
      "/home/zawawy/Public/anaconda3/lib/python3.7/site-packages/numpy/core/_methods.py:78: RuntimeWarning: invalid value encountered in true_divide\n",
      "  ret, rcount, out=ret, casting='unsafe', subok=False)\n",
      "/home/zawawy/Public/anaconda3/lib/python3.7/site-packages/numpy/core/fromnumeric.py:2920: RuntimeWarning: Mean of empty slice.\n",
      "  out=out, **kwargs)\n",
      "/home/zawawy/Public/anaconda3/lib/python3.7/site-packages/numpy/core/_methods.py:78: RuntimeWarning: invalid value encountered in true_divide\n",
      "  ret, rcount, out=ret, casting='unsafe', subok=False)\n",
      "/home/zawawy/Public/anaconda3/lib/python3.7/site-packages/numpy/core/fromnumeric.py:2920: RuntimeWarning: Mean of empty slice.\n",
      "  out=out, **kwargs)\n",
      "/home/zawawy/Public/anaconda3/lib/python3.7/site-packages/numpy/core/_methods.py:78: RuntimeWarning: invalid value encountered in true_divide\n",
      "  ret, rcount, out=ret, casting='unsafe', subok=False)\n"
     ]
    }
   ],
   "source": [
    "spectral_rbf_clusters = []\n",
    "for gamma in [0.01,0.1]:\n",
    "    for k in range(2,7):\n",
    "        new_data,centroids,clusters = SpectralClustering(clustering_dataSet,num_clusters=k, affinity='rbf', gamma= gamma)\n",
    "        print(\"______\")\n",
    "        spectral_rbf_clusters.append(clusters)\n",
    "        #print(\"For K = \",k,\"and gamma = \",gamma,\"\\nClusters Vector is \\n\",clusters)"
   ]
  },
  {
   "cell_type": "markdown",
   "metadata": {},
   "source": [
    "#### ii. Use Similarity graph as the {3,5}-NN graph. Where Sim(xi,xj)=1 iff xj is one of the nearest three points to xi (or vise versa ). Report different clustering results."
   ]
  },
  {
   "cell_type": "code",
   "execution_count": 7,
   "metadata": {},
   "outputs": [
    {
     "name": "stdout",
     "output_type": "stream",
     "text": [
      "For K =  2 and NN =  3 \n",
      "Clusters Vector is \n",
      " [0 0 0 1 1 1 1 1 1 1 1 1 1 1 1 1 1 1 1 1 1 1 1 1]\n",
      "For K =  3 and NN =  3 \n",
      "Clusters Vector is \n",
      " [0 0 0 1 1 1 1 1 1 1 1 1 1 1 2 2 1 2 2 2 2 2 2 2]\n",
      "For K =  4 and NN =  3 \n",
      "Clusters Vector is \n",
      " [1 1 1 0 0 0 0 0 0 0 0 0 0 0 2 2 0 2 2 2 2 2 0 0]\n",
      "For K =  5 and NN =  3 \n",
      "Clusters Vector is \n",
      " [0 0 0 2 2 2 2 2 2 2 2 2 2 2 2 2 2 2 1 0 1 0 0 0]\n",
      "For K =  6 and NN =  3 \n",
      "Clusters Vector is \n",
      " [3 3 3 1 2 2 1 1 2 1 1 1 1 0 0 0 0 0 5 5 5 5 5 5]\n",
      "For K =  2 and NN =  5 \n",
      "Clusters Vector is \n",
      " [0 0 0 0 0 0 0 0 0 0 0 0 0 0 0 0 0 0 0 0 0 0 0 0]\n",
      "For K =  3 and NN =  5 \n",
      "Clusters Vector is \n",
      " [2 2 2 2 2 2 2 2 2 2 2 2 2 2 2 2 2 2 1 1 1 0 0 0]\n",
      "For K =  4 and NN =  5 \n",
      "Clusters Vector is \n",
      " [0 0 0 0 3 3 3 3 3 2 3 2 2 1 1 1 1 1 1 1 1 1 1 1]\n",
      "For K =  5 and NN =  5 \n",
      "Clusters Vector is \n",
      " [1 1 1 1 4 4 4 4 4 4 4 4 4 4 2 2 4 2 2 2 2 4 4 4]\n",
      "For K =  6 and NN =  5 \n",
      "Clusters Vector is \n",
      " [2 2 2 2 4 4 0 0 4 0 0 5 5 1 2 2 1 2 3 3 3 3 5 5]\n"
     ]
    },
    {
     "name": "stderr",
     "output_type": "stream",
     "text": [
      "/home/zawawy/Public/anaconda3/lib/python3.7/site-packages/numpy/core/fromnumeric.py:2920: RuntimeWarning: Mean of empty slice.\n",
      "  out=out, **kwargs)\n",
      "/home/zawawy/Public/anaconda3/lib/python3.7/site-packages/numpy/core/_methods.py:78: RuntimeWarning: invalid value encountered in true_divide\n",
      "  ret, rcount, out=ret, casting='unsafe', subok=False)\n",
      "/home/zawawy/Public/anaconda3/lib/python3.7/site-packages/numpy/core/fromnumeric.py:2920: RuntimeWarning: Mean of empty slice.\n",
      "  out=out, **kwargs)\n",
      "/home/zawawy/Public/anaconda3/lib/python3.7/site-packages/numpy/core/_methods.py:78: RuntimeWarning: invalid value encountered in true_divide\n",
      "  ret, rcount, out=ret, casting='unsafe', subok=False)\n",
      "/home/zawawy/Public/anaconda3/lib/python3.7/site-packages/numpy/core/fromnumeric.py:2920: RuntimeWarning: Mean of empty slice.\n",
      "  out=out, **kwargs)\n",
      "/home/zawawy/Public/anaconda3/lib/python3.7/site-packages/numpy/core/_methods.py:78: RuntimeWarning: invalid value encountered in true_divide\n",
      "  ret, rcount, out=ret, casting='unsafe', subok=False)\n",
      "/home/zawawy/Public/anaconda3/lib/python3.7/site-packages/numpy/core/fromnumeric.py:2920: RuntimeWarning: Mean of empty slice.\n",
      "  out=out, **kwargs)\n",
      "/home/zawawy/Public/anaconda3/lib/python3.7/site-packages/numpy/core/_methods.py:78: RuntimeWarning: invalid value encountered in true_divide\n",
      "  ret, rcount, out=ret, casting='unsafe', subok=False)\n",
      "/home/zawawy/Public/anaconda3/lib/python3.7/site-packages/numpy/core/fromnumeric.py:2920: RuntimeWarning: Mean of empty slice.\n",
      "  out=out, **kwargs)\n",
      "/home/zawawy/Public/anaconda3/lib/python3.7/site-packages/numpy/core/_methods.py:78: RuntimeWarning: invalid value encountered in true_divide\n",
      "  ret, rcount, out=ret, casting='unsafe', subok=False)\n"
     ]
    }
   ],
   "source": [
    "spectral_knn_clusters = []\n",
    "for j in [3,5]:\n",
    "    for k in range(2,7):\n",
    "        new_data,centroids,clusters = SpectralClustering(clustering_dataSet,num_clusters=k, affinity='knn', num_neighbors= j)\n",
    "        spectral_knn_clusters.append(clusters)\n",
    "        print(\"For K = \",k,\"and NN = \",j,\"\\nClusters Vector is \\n\",clusters)"
   ]
  },
  {
   "cell_type": "markdown",
   "metadata": {},
   "source": [
    "### c. Assume the ground truth clustering results is T1={p,q,v}, T2={a,d,h,k,r,s,t,l,w,x} and T3={b,c,e,i,m,f,g,j,n,a,u}."
   ]
  },
  {
   "cell_type": "code",
   "execution_count": 8,
   "metadata": {},
   "outputs": [],
   "source": [
    "ground_truth = np.array([0,0,0,1,1,1,1,1,1,1,1,1,1,2,2,2,2,2,2,2,2,2,2,2])"
   ]
  },
  {
   "cell_type": "markdown",
   "metadata": {},
   "source": [
    "#### i. Compute the external measures we studied."
   ]
  },
  {
   "cell_type": "markdown",
   "metadata": {},
   "source": [
    "#### 1. Purity\n",
    "\n",
    "$$purity = \\frac{1}{n} \\sum_{i=1}^{r} \\max_{j=1}^{k} {n_{ij}}$$\n",
    "\n",
    "#### 2. Max matching\n",
    "\n",
    "$$match = argmax_{M}\\{\\frac{w(M)}{n}\\}$$\n",
    "\n",
    "#### 3. F-measure\n",
    "\n",
    "$$F_i = \\frac{2n_{ij_{i}}}{n_i + m_{j_{i}}}$$\n",
    "\n",
    "$$F = \\frac{1}{r}\\sum_{i=1}^{r}{F_i}$$\n",
    "\n",
    "#### 4. Conditional Entropy\n",
    "$$H(T|C_i) = -\\sum_{j=1}^{k}(\\frac{n_{ij}}{n_i})\\log(\\frac{n_{ij}}{n_i})$$\n",
    "\n",
    "$$H(T|C) = \\sum_{i=1}^{r}\\frac{n_i}{n}H(T|C_i)$$\n",
    "\n",
    "#### 5. Pairwise Measures \n",
    "$$TP = \\frac{1}{2}((\\sum_{i=1}^{r}\\sum_{j=1}^{k}n_{ij}^2)- n)$$\n",
    "\n",
    "$$FN = \\frac{1}{2}(\\sum_{j=1}^{k}m_j^2 - \\sum_{i=1}^{r}\\sum_{j=1}^{k}n_{ij}^2)$$\n",
    "\n",
    "$$FP = \\frac{1}{2}(\\sum_{i=1}^{r}n_i^2 - \\sum_{i=1}^{r}\\sum_{j=1}^{k}n_{ij}^2)$$\n",
    "\n",
    "$$TN = \\frac{1}{2}(n^2 - \\sum_{i=1}^{r}n_i^2 - \\sum_{j=1}^{k}m_j^2 - \\sum_{i=1}^{r}\\sum_{j=1}^{k}n_{ij}^2)$$\n",
    "\n",
    "$$Jaccard Coefficient = \\frac{TP}{TP+FN+FP}$$\n",
    "\n",
    "$$Rand Statistic = \\frac{TP+TN}{N}$$"
   ]
  },
  {
   "cell_type": "markdown",
   "metadata": {},
   "source": [
    "**For k means**"
   ]
  },
  {
   "cell_type": "code",
   "execution_count": 9,
   "metadata": {},
   "outputs": [
    {
     "name": "stdout",
     "output_type": "stream",
     "text": [
      "Contigency Table:\n",
      " col_0  0  1   2\n",
      "row_0          \n",
      "0      0  1  11\n",
      "1      3  5   0\n",
      "2      0  4   0\n",
      "Purity:\n",
      " 0.7916666666666666\n"
     ]
    }
   ],
   "source": [
    "contigencyTable = pd.crosstab(kmeans_clusters[1], ground_truth )\n",
    "print(\"Contigency Table:\\n\",contigencyTable)\n",
    "purity = 1/24 * (contigencyTable.max(0)[0] + contigencyTable.max(0)[1] + contigencyTable.max(0)[2])\n",
    "print(\"Purity:\\n\",purity)"
   ]
  },
  {
   "cell_type": "markdown",
   "metadata": {},
   "source": [
    "**F-measure:**<br>\n",
    "F0 = 2 * 3 / 3 +3 = 1<br>\n",
    "F1 = 2 * 10 / 10 + 10 = 1<br>\n",
    "F2 = 2 * 11 / 11+11 = 1<br>\n",
    "F = 1/3 * (1+1+1) = 1.0<br>\n",
    "\n",
    "**Conditional Entropy:**<br>\n",
    "H(T|C1) = -(3/3)log(1)-0-0 = 0<br>\n",
    "H(T|C2) = -(10/10)log(1)-0-0 = 0<br>\n",
    "H(T|C3) = -(11/11)log(1)-0-0 = 0<br>\n",
    "H(T|C) = (0* 3/24)+(0* 10/24)+(0* 11/24) = 0\n",
    "\n",
    "**Pairwise Measures**<br>\n",
    "TP = 0.5 * ((3^2 + 10^2+ 11^2)- 24) = 103<br>\n",
    "FN = 0.5 * ((3^2 + 10^2+ 11^2) - (3^2 + 10^2+ 11^2) ) = 0<br>\n",
    "FP = 0.5 * ((3^2 + 10^2+ 11^2) - (3^2 + 10^2+ 11^2) ) = 0<br>\n",
    "TN = N - TP - FN - FP = 276 - 103 = 173<br>\n",
    "Jaccard = 103/ 103 +0+0 = 1 <br>\n",
    "Rand = 103+173/276 = 1"
   ]
  },
  {
   "cell_type": "markdown",
   "metadata": {},
   "source": [
    "**For Spectral Clustering with RBF kernal and Gamma = 0.01**"
   ]
  },
  {
   "cell_type": "code",
   "execution_count": 10,
   "metadata": {
    "scrolled": false
   },
   "outputs": [
    {
     "name": "stdout",
     "output_type": "stream",
     "text": [
      "Contigency Table:\n",
      " col_0  0  1  2\n",
      "row_0         \n",
      "0      0  3  5\n",
      "1      0  1  6\n",
      "2      3  6  0\n",
      "Purity:\n",
      " 0.625\n"
     ]
    }
   ],
   "source": [
    "contigencyTable = pd.crosstab(spectral_rbf_clusters[1], ground_truth)\n",
    "print(\"Contigency Table:\\n\",contigencyTable)\n",
    "purity = 1/24 * (contigencyTable.max(0)[0] + contigencyTable.max(0)[1] + contigencyTable.max(0)[2])\n",
    "print(\"Purity:\\n\",purity)"
   ]
  },
  {
   "cell_type": "markdown",
   "metadata": {},
   "source": [
    "**F-measure:**<br>\n",
    "F0 = 2 * 6 / 9+10 = 0.63<br>\n",
    "F1 = 2* 6 / 8+11 = 0.63<br>\n",
    "F2 = 2* 5 / 7+11 = 0.59<br>\n",
    "F = 1/3 * (0.63 + 0.63 + 0.58) = 0.61\n",
    "\n",
    "**Conditional Entropy:**<br>\n",
    "H(T|C1) = -(3/9)log(3/9)-(6/9)log(6/9)-0 = 0.918<br>\n",
    "H(T|C2) = -0-(2/8)log(2/8)-(6/8)log(6/8) = 0.811<br>\n",
    "H(T|C3) = -0-(2/7)log(2/7)-(5/7)log(5/7) = 0.863<br>\n",
    "H(T|C) = (0.918* 9/24)+(0.811* 8/24)+(0.863* 7/24) = 0.866\n",
    "\n",
    "**Pairwise Measures**<br>\n",
    "TP = 0.5 * ((3^2 + 6^2+ 2^2+ 2^2+6^2+5^2)- 24) = 45<br>\n",
    "FN = 0.5 * ((3^2 + 10^2+ 11^2) - (3^2 + 6^2+ 2^2+ 2^2+6^2+5^2) ) = 58<br>\n",
    "FP = 0.5 * ((9^2 + 8^2+ 7^2) - (3^2 + 6^2+ 2^2+ 2^2+6^2+5^2) ) = 40<br>\n",
    "TN = N - TP - FN - FP = 276 -  45- 58 - 40 = 133<br>\n",
    "Jaccard = 45/ 45 +58+40 = 0.315 <br>\n",
    "Rand = 45+133/276 = 0.645"
   ]
  },
  {
   "cell_type": "markdown",
   "metadata": {},
   "source": [
    "**For Spectral Clustering with RBF kernal and Gamma = 0.1**"
   ]
  },
  {
   "cell_type": "code",
   "execution_count": 11,
   "metadata": {},
   "outputs": [
    {
     "name": "stdout",
     "output_type": "stream",
     "text": [
      "Contigency Table:\n",
      " col_0  0  1  2\n",
      "row_0         \n",
      "0      0  5  6\n",
      "2      3  5  5\n",
      "Purity:\n",
      " 0.5833333333333333\n"
     ]
    }
   ],
   "source": [
    "contigencyTable = pd.crosstab(spectral_rbf_clusters[6], ground_truth)\n",
    "print(\"Contigency Table:\\n\",contigencyTable)\n",
    "purity = 1/24 * (contigencyTable.max(0)[0] + contigencyTable.max(0)[1] + contigencyTable.max(0)[2])\n",
    "print(\"Purity:\\n\",purity)"
   ]
  },
  {
   "cell_type": "markdown",
   "metadata": {},
   "source": [
    "**F-measure:**<br>\n",
    "F0 = 2 * 5 / 5+11 = 0.625<br>\n",
    "F1 = 2* 6 / 7+11 = 0.67<br>\n",
    "F2 = 2* 9 / 12+10 = 0.82<br>\n",
    "F = 1/3 * (0.625 + 0.67 + 0.82) = 0.705\n",
    "\n",
    "**Conditional Entropy:**<br>\n",
    "H(T|C1) = -0-0-(5/5)log(5/5) = 0<br>\n",
    "H(T|C2) = -0-(1/7)log(1/7)-(6/7)log(6/7) = 0.592<br>\n",
    "H(T|C3) = -(3/12)log(3/12)-(9/12)log(9/12)-0 = 0.811<br>\n",
    "H(T|C) = (0* 9/24)+(0.592* 8/24)+(0.811* 7/24) = 0.434\n",
    "\n",
    "**Pairwise Measures**<br>\n",
    "TP = 0.5 * ((3^2 + 6^2+ 1^2+ 9^2+5^2)- 24) = 64<br>\n",
    "FN = 0.5 * ((3^2 + 10^2+ 11^2) - (3^2 + 6^2+ 1^2+ 9^2+5^2) ) = 39<br>\n",
    "FP = 0.5 * ((5^2 + 12^2+ 7^2) - (3^2 + 6^2+ 1^2+ 9^2+5^2)) = 33<br>\n",
    "TN = N - TP - FN - FP = 276 -  64- 39 - 33 = 140<br>\n",
    "Jaccard = 64/ 64 +39+33 = 0.47 <br>\n",
    "Rand = 64+140/276 = 0.739"
   ]
  },
  {
   "cell_type": "markdown",
   "metadata": {},
   "source": [
    "**For Spectral Clustering with 3-NN**"
   ]
  },
  {
   "cell_type": "code",
   "execution_count": 12,
   "metadata": {
    "scrolled": true
   },
   "outputs": [
    {
     "name": "stdout",
     "output_type": "stream",
     "text": [
      "Contigency Table:\n",
      " col_0  0   1  2\n",
      "row_0          \n",
      "0      3   0  0\n",
      "1      0  10  2\n",
      "2      0   0  9\n",
      "Purity:\n",
      " 0.9166666666666666\n"
     ]
    }
   ],
   "source": [
    "contigencyTable = pd.crosstab(spectral_knn_clusters[1], ground_truth)\n",
    "print(\"Contigency Table:\\n\",contigencyTable)\n",
    "purity = 1/24 * (contigencyTable.max(0)[0] + contigencyTable.max(0)[1] + contigencyTable.max(0)[2])\n",
    "print(\"Purity:\\n\",purity)"
   ]
  },
  {
   "cell_type": "markdown",
   "metadata": {},
   "source": [
    "**F-measure:**<br>\n",
    "F0 = 2 * 3 / 3+3 = 1<br>\n",
    "F1 = 2* 10 / 12+10 = 0.91<br>\n",
    "F2 = 2* 9 / 9+11 = 0.90<br>\n",
    "F = 1/3 * (1.00 + 0.91 + 0.90) = 0.94\n",
    "\n",
    "**Conditional Entropy:**<br>\n",
    "H(T|C1) = -(3/3)log(3/3)-0-0 = 0<br>\n",
    "H(T|C2) = -0-(10/12)log(10/12)-(2/12)log(2/12) = 0.65<br>\n",
    "H(T|C3) = -0-0-(9/9)log(9/9) = 0<br>\n",
    "H(T|C) = 0+(0.65* 12/24)+0 = 0.325\n",
    "\n",
    "**Pairwise Measures**<br>\n",
    "TP = 0.5 * ((3^2 + 6^2+ 1^2+ 9^2+5^2)- 24) = 64<br>\n",
    "FN = 0.5 * ((3^2 + 10^2+ 11^2) - (3^2 + 6^2+ 1^2+ 9^2+5^2) ) = 39<br>\n",
    "FP = 0.5 * ((5^2 + 12^2+ 7^2) - (3^2 + 6^2+ 1^2+ 9^2+5^2)) = 33<br>\n",
    "TN = N - TP - FN - FP = 276 -  64- 39 - 33 = 140<br>\n",
    "Jaccard = 64/ 64 +39+33 = 0.47 <br>\n",
    "Rand = 64+140/276 = 0.739\n"
   ]
  },
  {
   "cell_type": "markdown",
   "metadata": {},
   "source": [
    "**For Spectral Clustering with 5-NN**"
   ]
  },
  {
   "cell_type": "code",
   "execution_count": 13,
   "metadata": {},
   "outputs": [
    {
     "name": "stdout",
     "output_type": "stream",
     "text": [
      "Contigency Table:\n",
      " col_0  0   1  2\n",
      "row_0          \n",
      "0      0   0  3\n",
      "1      0   0  3\n",
      "2      3  10  5\n",
      "Purity:\n",
      " 0.75\n"
     ]
    }
   ],
   "source": [
    "contigencyTable = pd.crosstab(spectral_knn_clusters[6], ground_truth)\n",
    "print(\"Contigency Table:\\n\",contigencyTable)\n",
    "purity = 1/24 * (contigencyTable.max(0)[0] + contigencyTable.max(0)[1] + contigencyTable.max(0)[2])\n",
    "print(\"Purity:\\n\",purity)"
   ]
  },
  {
   "cell_type": "markdown",
   "metadata": {},
   "source": [
    "**F-measure:**<br>\n",
    "F0 = 2 * 6 / 6+11 = 0.71<br>\n",
    "F1 = 2* 5 / 5+11 = 0.625<br>\n",
    "F2 = 2* 10 / 13+10 = 0.87<br>\n",
    "F = 1/3 * (0.71 + 0.625 + 0.87) = 0.735\n",
    "\n",
    "**Conditional Entropy:**<br>\n",
    "H(T|C1) = -0-0-(6/6)log(6/6) = 0<br>\n",
    "H(T|C2) = -0-0-(5/5)log(5/5) = 0<br>\n",
    "H(T|C3) = -(3/13)log(3/13)-(10/13)log(10/13)-0 = 0.78<br>\n",
    "H(T|C) = (0* 6/24)+(0* 5/24)+(0.78* 13/24) = 0.4225\n",
    "\n",
    "**Pairwise Measures**<br>\n",
    "TP = 0.5 * ((3^2 + 6^2+ 1^2+ 9^2+5^2)- 24) = 64<br>\n",
    "FN = 0.5 * ((3^2 + 10^2+ 11^2) - (3^2 + 6^2+ 1^2+ 9^2+5^2) ) = 39<br>\n",
    "FP = 0.5 * ((5^2 + 12^2+ 7^2) - (3^2 + 6^2+ 1^2+ 9^2+5^2)) = 33<br>\n",
    "TN = N - TP - FN - FP = 276 -  64- 39 - 33 = 140<br>\n",
    "Jaccard = 64/ 64 +39+33 = 0.47 <br>\n",
    "Rand = 64+140/276 = 0.739"
   ]
  },
  {
   "cell_type": "markdown",
   "metadata": {},
   "source": [
    "**ii. Compute the internal measures we studied. You will need the proximity matrix before proceeding.**"
   ]
  },
  {
   "cell_type": "code",
   "execution_count": null,
   "metadata": {},
   "outputs": [],
   "source": []
  },
  {
   "cell_type": "markdown",
   "metadata": {},
   "source": [
    "**For k-means :**"
   ]
  },
  {
   "cell_type": "code",
   "execution_count": 14,
   "metadata": {},
   "outputs": [],
   "source": [
    "#compute promixity matrix \n",
    "prox_matrix = np.arange(24*24).reshape(24,24)\n",
    "for i in range(clustering_dataSet.shape[0]):\n",
    "    for j in range(clustering_dataSet.shape[0]):\n",
    "        prox_matrix[i][j] = np.linalg.norm(clustering_dataSet[i]-clustering_dataSet[j])\n",
    "        \n",
    "#compute cluster weight matrix\n",
    "weight_matrix = np.arange(3*3).reshape(3,3)\n",
    "C1,C2,C3 = [],[],[]\n",
    "for i in range(0,24):\n",
    "    if(kmeans_clusters[1][i] == 0): C1.append(i)\n",
    "    elif(kmeans_clusters[1][i] == 1): C2.append(i)\n",
    "    else: C3.append(i)\n",
    "\n",
    "for i in range(len(C1)):\n",
    "    for j in range(len(C1)):\n",
    "        weight_matrix[0][0] += prox_matrix[i][j]\n",
    "\n",
    "for i in range(len(C2)):\n",
    "    for j in range(len(C2)):\n",
    "        weight_matrix[1][1] += prox_matrix[i][j]\n",
    "        \n",
    "\n",
    "for i in range(len(C3)):\n",
    "    for j in range(len(C3)):\n",
    "        weight_matrix[2][2] += prox_matrix[i][j]\n",
    "        \n",
    "for i in range(len(C1)):\n",
    "    for j in range(len(C2)):\n",
    "        weight_matrix[0][1] += prox_matrix[i][j]\n",
    "\n",
    "for i in range(len(C1)):\n",
    "    for j in range(len(C3)):\n",
    "        weight_matrix[0][2] += prox_matrix[i][j]\n",
    "\n",
    "for i in range(len(C2)):\n",
    "    for j in range(len(C1)):\n",
    "        weight_matrix[1][0] += prox_matrix[i][j]\n",
    "        \n",
    "for i in range(len(C2)):\n",
    "    for j in range(len(C3)):\n",
    "        weight_matrix[1][2] += prox_matrix[i][j]\n",
    "    \n",
    "for i in range(len(C3)):\n",
    "    for j in range(len(C1)):\n",
    "        weight_matrix[2][0] += prox_matrix[i][j]\n",
    "        \n",
    "for i in range(len(C3)):\n",
    "    for j in range(len(C2)):\n",
    "        weight_matrix[2][1] += prox_matrix[i][j]"
   ]
  },
  {
   "cell_type": "markdown",
   "metadata": {},
   "source": [
    "**compute Nin and Nout**<br>\n",
    "Nin = 0.5 * (3+10+11)*((3+10+11)-1) = 276<br>\n",
    "Nout = N - Nin = 276 - 276 = 0 \n",
    "\n",
    "\n",
    "**Compute BetaCV**<br>\n",
    "BetaCV = Nout/Nin * Win/Wout = 0\n",
    "\n",
    "**Compute Normalized Cut**<br>\n"
   ]
  }
 ],
 "metadata": {
  "kernelspec": {
   "display_name": "Python 3",
   "language": "python",
   "name": "python3"
  },
  "language_info": {
   "codemirror_mode": {
    "name": "ipython",
    "version": 3
   },
   "file_extension": ".py",
   "mimetype": "text/x-python",
   "name": "python",
   "nbconvert_exporter": "python",
   "pygments_lexer": "ipython3",
   "version": "3.7.1"
  }
 },
 "nbformat": 4,
 "nbformat_minor": 2
}
