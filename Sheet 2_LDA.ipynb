{
 "cells": [
  {
   "cell_type": "markdown",
   "metadata": {},
   "source": [
    "# Sheet 2 : LDA \n",
    "\n",
    "## Name:  Amr Ashraf Ibrahim Elzawawy&nbsp;&nbsp;&nbsp;&nbsp;&nbsp;&nbsp;&nbsp;&nbsp;&nbsp;&nbsp;&nbsp;&nbsp;&nbsp;&nbsp;&nbsp;&nbsp;&nbsp;&nbsp;ID: 3788"
   ]
  },
  {
   "cell_type": "markdown",
   "metadata": {},
   "source": [
    "### Question 1 on Orthogonal Projection"
   ]
  },
  {
   "cell_type": "markdown",
   "metadata": {},
   "source": [
    "**1) For the given vectors u1 and u2 below**\n",
    "\n",
    "$$u1 = \\begin{pmatrix} 3\\\\ 4 \\\\ 0\\end{pmatrix}, u2 = \\begin{pmatrix} -4\\\\ 3 \\\\ 0\\end{pmatrix}$$\n",
    "\n",
    "***"
   ]
  },
  {
   "cell_type": "markdown",
   "metadata": {},
   "source": [
    "**a) Verify u1 and u2 are orthogonal**"
   ]
  },
  {
   "cell_type": "markdown",
   "metadata": {},
   "source": [
    "Ans:\n",
    "$$u1^T u2 =\\begin{pmatrix} 3 & 4 & 0\\end{pmatrix} \\begin{pmatrix} -4 \\\\ 3 \\\\ 0\\end{pmatrix} = (3*-4)+(4*3)+0 = 0$$\n",
    "Thus, u1 and u2 are orthogonal. \n",
    "\n",
    "***"
   ]
  },
  {
   "cell_type": "markdown",
   "metadata": {},
   "source": [
    "**b) Find the projection of the point $y=[6,3,-2]^T$ on u1 and u2**"
   ]
  },
  {
   "cell_type": "markdown",
   "metadata": {},
   "source": [
    "Ans:\n",
    "$$y' = U^T y = \\begin{pmatrix} 3 & 4 & 0 \\\\ -4 & 3 & 0\\end{pmatrix}\\begin{pmatrix} 6 \\\\ 3 \\\\ -2\\end{pmatrix} = \\begin{pmatrix} 30 \\\\ -15\\end{pmatrix}$$\n",
    "\n",
    "***"
   ]
  },
  {
   "cell_type": "markdown",
   "metadata": {},
   "source": [
    "### Question 2 on LDA "
   ]
  },
  {
   "cell_type": "markdown",
   "metadata": {},
   "source": [
    "**For the data on two class problem shown below** "
   ]
  },
  {
   "cell_type": "code",
   "execution_count": 13,
   "metadata": {},
   "outputs": [
    {
     "data": {
      "text/plain": [
       "<matplotlib.collections.PathCollection at 0x7fcc1cfe3630>"
      ]
     },
     "execution_count": 13,
     "metadata": {},
     "output_type": "execute_result"
    },
    {
     "data": {
      "image/png": "[encoded data removed]",
      "text/plain": [
       "<Figure size 432x288 with 1 Axes>"
      ]
     },
     "metadata": {
      "needs_background": "light"
     },
     "output_type": "display_data"
    }
   ],
   "source": [
    "import numpy as np\n",
    "import matplotlib.pyplot as plt\n",
    "data = np.array([[2,3],[3,3],[3,4],[5,8],[7,7],[5,4],[6,5],[7,5],[7,4],[8,2],[9,4]])\n",
    "dim1 = np.array([2,3,3,5,7,5,6,7,7,8,9])\n",
    "dim2 = np.array([3,3,4,8,7,4,5,5,4,2,4])\n",
    "plt.scatter(dim1,dim2)"
   ]
  },
  {
   "cell_type": "markdown",
   "metadata": {},
   "source": [
    "**a) Compute μ+1 and μ−1, and B, the between-class scatter matrix.**"
   ]
  },
  {
   "cell_type": "markdown",
   "metadata": {},
   "source": [
    "Ans: \n",
    "$$μ+1 = = (\\frac{2+3+3+5+7}{5},\\frac{3+3+4+8+7}{5}) =  \\begin{pmatrix} 4 \\\\ 5 \\end{pmatrix},$$\n",
    "\n",
    "$$μ−1 = (\\frac{5+6+7+7+8+9}{6},\\frac{4+5+5+4+2+4}{6}) = \\begin{pmatrix} 7 \\\\ 4 \\end{pmatrix},$$\n",
    "\n",
    "$$B = (μ_1-μ_2)(μ_1-μ_2)^T = \\begin{pmatrix} 3 \\\\ -1\\end{pmatrix} \\begin{pmatrix} -3 & 1 \\end{pmatrix} = \\begin{pmatrix} 9 & -3 \\\\ -3 & 1 \\end{pmatrix}.$$"
   ]
  },
  {
   "cell_type": "markdown",
   "metadata": {},
   "source": [
    "**b) Find the best direction w that discriminates between the classes and sketch it.\n",
    "**Given $S^-1 = \\begin{pmatrix} 0.056 & -0.029 \\\\ -0.029 & 0.056 \\end{pmatrix}$****"
   ]
  },
  {
   "cell_type": "markdown",
   "metadata": {},
   "source": [
    "Ans: \n",
    "$$ (S^-1B)w = \\lambda w$$\n",
    "*This is simply an eigen value-vector problem solved below by python solver*"
   ]
  },
  {
   "cell_type": "code",
   "execution_count": 19,
   "metadata": {},
   "outputs": [
    {
     "data": {
      "text/plain": [
       "(array([0.734, 0.   ]), array([[ 0.80926868,  0.31622777],\n",
       "        [-0.58743868,  0.9486833 ]]))"
      ]
     },
     "execution_count": 19,
     "metadata": {},
     "output_type": "execute_result"
    }
   ],
   "source": [
    "sInvMat = np.array([[0.056,-0.029],[-0.029,0.056]])\n",
    "bMat = np.array([[9,-3],[-3,1]])\n",
    "np.linalg.eig(np.dot(sInvMat,bMat))"
   ]
  },
  {
   "cell_type": "code",
   "execution_count": 34,
   "metadata": {},
   "outputs": [
    {
     "data": {
      "text/plain": [
       "[<matplotlib.lines.Line2D at 0x7fcc1ca60898>]"
      ]
     },
     "execution_count": 34,
     "metadata": {},
     "output_type": "execute_result"
    },
    {
     "data": {
      "image/png": "[encoded data removed]",
      "text/plain": [
       "<Figure size 432x288 with 1 Axes>"
      ]
     },
     "metadata": {
      "needs_background": "light"
     },
     "output_type": "display_data"
    }
   ],
   "source": [
    "w = np.array([ 0.80926868,  0.31622777])\n",
    "plt.plot(w)"
   ]
  },
  {
   "cell_type": "markdown",
   "metadata": {},
   "source": [
    "\n",
    "### Question 3 on LDA "
   ]
  },
  {
   "cell_type": "markdown",
   "metadata": {},
   "source": [
    "**For the data on two class problem below**\n",
    "\n",
    "| i  \t| xi      \t| yi \t|\n",
    "|----\t|---------\t|----\t|\n",
    "| x1 \t| (4,2.9)   \t| +1 \t|\n",
    "| x2 \t| (3.5,4) \t| +1 \t|\n",
    "| x3 \t| (2.5,1) \t| -1 \t|\n",
    "| x4 \t| (2,2.1) \t| -1 \t|\n",
    "\n",
    "***"
   ]
  },
  {
   "cell_type": "markdown",
   "metadata": {},
   "source": [
    "**a) Compute μ+1 and μ−1, and B, the between-class scatter matrix.**"
   ]
  },
  {
   "cell_type": "markdown",
   "metadata": {},
   "source": [
    "Ans: \n",
    "$$μ+1 = = (\\frac{4+3.5}{2},\\frac{2.9+4}{2}) =  \\begin{pmatrix} 3.75 \\\\ 3.45  \\end{pmatrix},$$\n",
    "\n",
    "$$μ−1 = (\\frac{2.5+2}{2},\\frac{1+2.1}{2}) = \\begin{pmatrix} 2.25 \\\\ 1.55 \\end{pmatrix},$$\n",
    "\n",
    "$$B = (μ_1-μ_2)(μ_1-μ_2)^T = \\begin{pmatrix} 1.5 \\\\ 1.9\\end{pmatrix} \\begin{pmatrix} 1.5 & 1.9 \\end{pmatrix} = \\begin{pmatrix} 2.25 & 2.85 \\\\ 2.85 & 3.61 \\end{pmatrix}.$$"
   ]
  },
  {
   "cell_type": "markdown",
   "metadata": {},
   "source": [
    "**b) Compute S+1 and S−1, and S, the within-class scatter matrix.**"
   ]
  },
  {
   "cell_type": "markdown",
   "metadata": {},
   "source": [
    "Ans: \n",
    "$$S_1 = \\sum_{x_i --> D_1} (x_i - μ_1 )(x_i - μ_1 )^T = (x_1-μ_1)(x_1-μ_1)^T +(x_2 -μ_1)(x_2 -μ_1)^T = \\begin{pmatrix} 0.25 \\\\ -0.55  \\end{pmatrix}\\begin{pmatrix} 0.25 & -0.55 \\end{pmatrix} + \\begin{pmatrix} -0.25 \\\\ 0.55 \\end{pmatrix}\\begin{pmatrix} -0.25 & 0.55\\end{pmatrix} = \\begin{pmatrix} 0.0625 & -0.1375 \\\\  -0.1375 & 0.3025 \\end{pmatrix}+ \\begin{pmatrix} 0.0625 & -0.1375 \\\\  -0.1375 & 0.3025 \\end{pmatrix} = \\begin{pmatrix} 0.125 & -0.275 \\\\  -0.275 & 0.605 \\end{pmatrix}$$\n",
    "\n",
    "***\n",
    "$$S_-1 = \\sum_{x_i --> D_-1} (x_i - μ_-1 )(x_i - μ_-1 )^T = (x_3-μ_-1)(x_3-μ_-1)^T +(x_4 -μ_-1)(x_4 -μ_-1)^T = \\begin{pmatrix} 0.25 \\\\ -0.55  \\end{pmatrix}\\begin{pmatrix} 0.25 & -0.55 \\end{pmatrix} + \\begin{pmatrix} -0.25 \\\\ 1.55 \\end{pmatrix}\\begin{pmatrix} -0.25 & 1.55\\end{pmatrix} = \\begin{pmatrix} 0.0625 & -0.1375 \\\\  -0.1375 & 0.3025 \\end{pmatrix} + \\begin{pmatrix} 0.0625 & -0.03875 \\\\  -0.03875 & 2.4025 \\end{pmatrix} = \\begin{pmatrix} 0.125 & -0.525 \\\\  -0.525 & 2.705 \\end{pmatrix}$$\n",
    "\n",
    "***\n",
    "\n",
    "$$S = \\begin{pmatrix} 0.125 & -0.275 \\\\  -0.275 & 0.605 \\end{pmatrix} +\\begin{pmatrix} 0.125 & -0.525 \\\\  -0.525 & 2.705 \\end{pmatrix} = \\begin{pmatrix} 0.25 & -0.8 \\\\  -0.8 & 3.31 \\end{pmatrix}$$\n",
    "\n",
    "***"
   ]
  },
  {
   "cell_type": "markdown",
   "metadata": {},
   "source": [
    "**c) Find the best direction w that discriminates between the classes.**"
   ]
  },
  {
   "cell_type": "code",
   "execution_count": 44,
   "metadata": {},
   "outputs": [
    {
     "data": {
      "text/plain": [
       "(array([ 6.88533333e+01, -3.55271368e-15]), array([[ 0.96822486, -0.78488277],\n",
       "        [ 0.25008121,  0.61964429]]))"
      ]
     },
     "execution_count": 44,
     "metadata": {},
     "output_type": "execute_result"
    }
   ],
   "source": [
    "matS = np.array([[0.25,-0.8],[-0.8,3.31]])\n",
    "invMatS = np.linalg.inv(matS)\n",
    "matB = np.array([[2.25,2.85],[2.85,3.61]])\n",
    "np.linalg.eig(np.dot(invMatS,matB))"
   ]
  },
  {
   "cell_type": "code",
   "execution_count": 45,
   "metadata": {},
   "outputs": [],
   "source": [
    "w = np.array([ 0.96822486, -0.78488277])"
   ]
  },
  {
   "cell_type": "code",
   "execution_count": null,
   "metadata": {},
   "outputs": [],
   "source": []
  }
 ],
 "metadata": {
  "kernelspec": {
   "display_name": "Python 3",
   "language": "python",
   "name": "python3"
  },
  "language_info": {
   "codemirror_mode": {
    "name": "ipython",
    "version": 3
   },
   "file_extension": ".py",
   "mimetype": "text/x-python",
   "name": "python",
   "nbconvert_exporter": "python",
   "pygments_lexer": "ipython3",
   "version": "3.7.1"
  }
 },
 "nbformat": 4,
 "nbformat_minor": 2
}
