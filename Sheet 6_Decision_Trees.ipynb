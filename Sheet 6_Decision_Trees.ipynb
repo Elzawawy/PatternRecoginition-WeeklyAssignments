{
 "cells": [
  {
   "cell_type": "markdown",
   "metadata": {},
   "source": [
    "# Sheet#6 Decision Trees"
   ]
  },
  {
   "cell_type": "markdown",
   "metadata": {},
   "source": [
    "**Question 2: Coding the Decision Trees**"
   ]
  },
  {
   "cell_type": "code",
   "execution_count": 1,
   "metadata": {},
   "outputs": [],
   "source": [
    "#imports cell \n",
    "from os import listdir\n",
    "from PIL import Image as PImage\n",
    "import matplotlib.pyplot as plt\n",
    "import numpy as np\n",
    "import math\n",
    "from sklearn.metrics import accuracy_score\n",
    "from sklearn.metrics import confusion_matrix"
   ]
  },
  {
   "cell_type": "markdown",
   "metadata": {},
   "source": [
    "**a. Use the Face-data set we used in Assignment 1. Use the 50-50 Split for train-test split.**"
   ]
  },
  {
   "cell_type": "code",
   "execution_count": 2,
   "metadata": {},
   "outputs": [],
   "source": [
    "#Utility Method to loadImages into list from a given path parameter.\n",
    "def loadImages(path):\n",
    "    # return array of images\n",
    "    foldersList = listdir(path)\n",
    "    loadedImages = []\n",
    "    for folder in foldersList :\n",
    "        imagesList = listdir(path+folder)\n",
    "        for image in imagesList:\n",
    "            img = PImage.open(path +folder+'/'+ image)\n",
    "            loadedImages.append(img)\n",
    "    return loadedImages"
   ]
  },
  {
   "cell_type": "code",
   "execution_count": 3,
   "metadata": {},
   "outputs": [],
   "source": [
    "#Loading our Faces dataset.\n",
    "path = \"../Projects/Face-Recoginition/orl_faces/\"\n",
    "imgs = loadImages(path)\n",
    "#converting the images list into data matrix.\n",
    "dataMatrix = np.arange(4121600).reshape(400,10304)\n",
    "j=0\n",
    "label = []\n",
    "for i in range(0,400) :\n",
    "    if(i%10 == 0):\n",
    "        j = j+1\n",
    "    dataMatrix[i] = np.array(imgs[i]).flatten()     #flatten() method is used to unroll the matrix into vector\n",
    "    label.append(j)"
   ]
  },
  {
   "cell_type": "code",
   "execution_count": 4,
   "metadata": {},
   "outputs": [],
   "source": [
    "# (50 - 50) split is used here. \n",
    "#Even instances for test set. \n",
    "#Odd instances for train set.\n",
    "trainSet=np.arange(200*10304).reshape(200,10304)\n",
    "testSet=np.arange(200*10304).reshape(200,10304)\n",
    "trainLabel=[]\n",
    "testLabel=[]\n",
    "j,k=0,0\n",
    "for i in range(0,400):\n",
    "    if(i%2==0):\n",
    "        testSet[j]=dataMatrix[i]\n",
    "        testLabel.append(label[i])\n",
    "        j+=1\n",
    "    else:\n",
    "        trainSet[k]=dataMatrix[i]\n",
    "        trainLabel.append(label[i])\n",
    "        k+=1"
   ]
  },
  {
   "cell_type": "markdown",
   "metadata": {},
   "source": [
    "**b. Implement your Decision Trees Classifier. Use Information Gain as a splitting measure.**"
   ]
  },
  {
   "cell_type": "code",
   "execution_count": 7,
   "metadata": {},
   "outputs": [],
   "source": [
    "class TreeNode(object):\n",
    "    def __init__(self):\n",
    "        self.left = None\n",
    "        self.right = None\n",
    "        self.data = None\n",
    "        self.index = None\n",
    "root = TreeNode()"
   ]
  },
  {
   "cell_type": "code",
   "execution_count": null,
   "metadata": {},
   "outputs": [],
   "source": [
    "def eval_numeric_split(dataset,k,label,attr):\n",
    "    attr = np.sort(attr)\n",
    "    M = {}\n",
    "    ni = np.zeros(k)\n",
    "    for j in range(attr.shape[0]-1):\n",
    "        ni[label[j]-1] +=1\n",
    "        "
   ]
  },
  {
   "cell_type": "code",
   "execution_count": 6,
   "metadata": {},
   "outputs": [],
   "source": [
    "def DecisionTree(dataset,label,node,k,criterion='gain', purity_threshold= None, max_leaf_nodes=None):\n",
    "    data_size = dataset.shape[0]              #n\n",
    "    attr_size = dataset.shape[1]              #d\n",
    "    data_purity = 0\n",
    "    max_purity = 0 \n",
    "    max_purity_class = 1\n",
    "    best_split_point = [0,0]\n",
    "    best_score = 0\n",
    "    num_classes = np.unique(label).shape[0]   \n",
    "    class_size = np.zeros(num_classes)        #n_i vector initalize.\n",
    "    data_yes = {}\n",
    "    label_yes = {}\n",
    "    data_no = {}\n",
    "    label_no = {}\n",
    "    \n",
    "    for i in range(data_size):\n",
    "        class_size[label[i]-1] += 1;       #Here the -1 is for that classes start from 1 not 0. How to solve ??\n",
    "    for i in range(num_classes):\n",
    "        data_purity = class_size[i]/data_size\n",
    "        if(data_purity > max_purity): \n",
    "            max_purity = data_purity\n",
    "            max_purity_class = i+1\n",
    "            \n",
    "    #stopping condition.\n",
    "    if(data_size <= max_leaf_nodes or data_purity >= purity_threshold):\n",
    "        #create leaf node with max_purity_class as label.\n",
    "            node.data = dataset\n",
    "            node.index = max_purity_class\n",
    "        return\n",
    "    \n",
    "    #Do every Recursive step.\n",
    "    for i in range(attr_size):\n",
    "        split_point, score = eval_numeric_split(dataset,k,label,dataset[:,i])\n",
    "        if (score > best_score): \n",
    "            best_split_point[0] = i\n",
    "            best_split_point[1] = split_point\n",
    "            best_score = score\n",
    "            \n",
    "    #partition D into D Y and D N using split point.\n",
    "    for i in range(data_size):\n",
    "        if(dataset[i,best_split_point[0]] <= best_split_point[1]):\n",
    "            data_yes.append(dataset[i])\n",
    "            label_yes.append(label[i])\n",
    "        else: \n",
    "            data_no.append(dataset[i])\n",
    "            label_no.append(label[i])\n",
    "            \n",
    "    #create internal node\n",
    "    node.data = best_split_point[1]\n",
    "    node.index = best_split_point[0]\n",
    "    node.left = TreeNode()\n",
    "    node.right = TreeNode()\n",
    "    DecisionTree(np.array(data_yes), np.array(label_yes),node.left)\n",
    "    DecisionTree(np.array(data_no), np.array(label_no),node.right)"
   ]
  },
  {
   "cell_type": "code",
   "execution_count": null,
   "metadata": {},
   "outputs": [],
   "source": []
  },
  {
   "cell_type": "code",
   "execution_count": null,
   "metadata": {},
   "outputs": [],
   "source": []
  },
  {
   "cell_type": "code",
   "execution_count": null,
   "metadata": {},
   "outputs": [],
   "source": []
  }
 ],
 "metadata": {
  "kernelspec": {
   "display_name": "Python 3",
   "language": "python",
   "name": "python3"
  },
  "language_info": {
   "codemirror_mode": {
    "name": "ipython",
    "version": 3
   },
   "file_extension": ".py",
   "mimetype": "text/x-python",
   "name": "python",
   "nbconvert_exporter": "python",
   "pygments_lexer": "ipython3",
   "version": "3.7.1"
  }
 },
 "nbformat": 4,
 "nbformat_minor": 2
}
