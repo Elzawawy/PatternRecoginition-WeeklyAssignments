{
 "cells": [
  {
   "cell_type": "markdown",
   "metadata": {},
   "source": [
    "# Using Backpropagation algorithm to train a two layer XOR problem."
   ]
  },
  {
   "cell_type": "code",
   "execution_count": 36,
   "metadata": {},
   "outputs": [],
   "source": [
    "#imports cell\n",
    "import numpy as np\n",
    "import matplotlib.pyplot as plt\n",
    "import sys"
   ]
  },
  {
   "cell_type": "markdown",
   "metadata": {},
   "source": [
    "### For the XOR problem introduced below, 4 data points exist in the dataset - \n",
    "x 1 = (1, 0), x 2 = (1, 1), x 3 = (0, 1), x 4 = (0, 0).)"
   ]
  },
  {
   "cell_type": "code",
   "execution_count": 2,
   "metadata": {},
   "outputs": [],
   "source": [
    "# The training data.\n",
    "X = np.array([[1, 0],[1, 1],[0, 1],[0, 0]])\n",
    "\n",
    "# The labels for the training data.\n",
    "Y = np.array([[1],[0],[1],[0]])"
   ]
  },
  {
   "cell_type": "markdown",
   "metadata": {},
   "source": [
    "Let us define a one hidden layer network with two input units, N hidden layer\n",
    "units and one output unit, with training set of D data samples."
   ]
  },
  {
   "cell_type": "markdown",
   "metadata": {},
   "source": [
    "### Activation Function used here is Sigmoid. I tried Relu but it kept getting me bugs i think i implemented it wrongly."
   ]
  },
  {
   "cell_type": "code",
   "execution_count": 135,
   "metadata": {},
   "outputs": [],
   "source": [
    "def sigmoid(f):\n",
    "    return 1 / (1 + np.exp(-2 * f))\n",
    "\n",
    "\n",
    "def sigmoid_derivative(f):\n",
    "    return f * (1 - f)"
   ]
  },
  {
   "cell_type": "markdown",
   "metadata": {},
   "source": [
    "### Forward Calculations"
   ]
  },
  {
   "cell_type": "code",
   "execution_count": 136,
   "metadata": {},
   "outputs": [],
   "source": [
    "def forward(input_layer, output_layer, hidden_weights, output_weights, bias):\n",
    "    z2 = np.dot(input_layer, hidden_weights)\n",
    "    a2 = sigmoid(z2)\n",
    "    a2 = np.vstack((a2.T, bias)).T\n",
    "    z3 = np.dot(a2, output_weights)\n",
    "    a3 = sigmoid(z3)\n",
    "    return a2, a3, hidden_weights, output_weights"
   ]
  },
  {
   "cell_type": "markdown",
   "metadata": {},
   "source": [
    "## Back Probagation: Gradient Descent"
   ]
  },
  {
   "cell_type": "code",
   "execution_count": 141,
   "metadata": {},
   "outputs": [],
   "source": [
    "def backprobagation(input_layer, output_layer, hidden_weights, output_weights, bias, max_iter):\n",
    "    for _ in range(max_iter):\n",
    "        a2, a3, hidden_weights, output_weights = forward(input_layer, output_layer, hidden_weights, output_weights, bias)\n",
    "        loss_a3 = output_layer - a3\n",
    "        loss_a2 = np.dot(loss_a3, output_weights[0:2, :].T) * sigmoid(np.dot(input_layer, hidden_weights))\n",
    "        delta_a3 = loss_a3 * sigmoid_derivative(a3)\n",
    "        delta_a2 = loss_a2 * sigmoid_derivative(a2[:, 0:2])\n",
    "        # Updating weights\n",
    "        output_weights += np.dot(a2.T, delta_a3)\n",
    "        hidden_weights += np.dot(input_layer.T, delta_a2)\n",
    "    return a3"
   ]
  },
  {
   "cell_type": "code",
   "execution_count": 143,
   "metadata": {},
   "outputs": [
    {
     "name": "stdout",
     "output_type": "stream",
     "text": [
      "[[0.97508655]\n",
      " [0.05622335]\n",
      " [0.97508655]\n",
      " [0.00115668]]\n"
     ]
    }
   ],
   "source": [
    "# Randomly initialising weights\n",
    "np.random.seed(1)\n",
    "hidden_weights = np.random.random((2, 2))\n",
    "output_weights = np.random.random((3, 1))\n",
    "# Bias term initializiation\n",
    "bias = np.ones((1, 4))\n",
    "# Number of iterations\n",
    "iterations = 33000\n",
    "print(backprobagation(X, Y, hidden_weights, output_weights, bias, iterations))"
   ]
  }
 ],
 "metadata": {
  "kernelspec": {
   "display_name": "Python 3",
   "language": "python",
   "name": "python3"
  },
  "language_info": {
   "codemirror_mode": {
    "name": "ipython",
    "version": 3
   },
   "file_extension": ".py",
   "mimetype": "text/x-python",
   "name": "python",
   "nbconvert_exporter": "python",
   "pygments_lexer": "ipython3",
   "version": "3.7.1"
  }
 },
 "nbformat": 4,
 "nbformat_minor": 2
}
