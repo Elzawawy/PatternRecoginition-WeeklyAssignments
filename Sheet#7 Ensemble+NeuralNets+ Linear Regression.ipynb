{
 "cells": [
  {
   "cell_type": "markdown",
   "metadata": {},
   "source": [
    "# Sheet#7 Ensemble+NeuralNets+ Linear Regression"
   ]
  },
  {
   "cell_type": "markdown",
   "metadata": {},
   "source": [
    "## Question 1 on data given below."
   ]
  },
  {
   "cell_type": "code",
   "execution_count": 20,
   "metadata": {},
   "outputs": [],
   "source": [
    "import numpy as np\n",
    "from sklearn.linear_model import LinearRegression\n",
    "from sklearn.linear_model import Ridge"
   ]
  },
  {
   "cell_type": "code",
   "execution_count": 3,
   "metadata": {},
   "outputs": [],
   "source": [
    "X = np.array([[1,1,5],[1,2,6],[1,2,10],[1,2,12],[1,3,17],[1,3,12],[1,4,6],[1,4,5],[1,4,7],[1,5,10]])\n",
    "Y = np.array([10,40,50,60,70,50,30,20,40,70])"
   ]
  },
  {
   "cell_type": "markdown",
   "metadata": {},
   "source": [
    "### Use Scikit-learn package for Finding the linear regression solution."
   ]
  },
  {
   "cell_type": "code",
   "execution_count": 19,
   "metadata": {},
   "outputs": [
    {
     "name": "stdout",
     "output_type": "stream",
     "text": [
      "Theta 0 is  -7.987577639751535\n",
      "Theta 1 is 4.2857142857142865\n",
      "Theta 2 is 4.34782608695652\n"
     ]
    }
   ],
   "source": [
    "reg = LinearRegression().fit(X, Y)\n",
    "print(\"Theta 0 is \",reg.intercept_)\n",
    "print(\"Theta 1 is\",reg.coef_[1])\n",
    "print(\"Theta 2 is\",reg.coef_[2])"
   ]
  },
  {
   "cell_type": "markdown",
   "metadata": {},
   "source": [
    "#### Comparing to the Closed form solution obtained perviously, it is exactly the same answer we got from the sklearn algorithm."
   ]
  },
  {
   "cell_type": "markdown",
   "metadata": {},
   "source": [
    "### Add L-2 regularization to the obtained solution. We use Ridge regression from Scikit-learn to do so."
   ]
  },
  {
   "cell_type": "markdown",
   "metadata": {},
   "source": [
    "#### For alpha = 0.1,"
   ]
  },
  {
   "cell_type": "code",
   "execution_count": 34,
   "metadata": {},
   "outputs": [
    {
     "name": "stdout",
     "output_type": "stream",
     "text": [
      "Theta 0 is  -7.868057374397225\n",
      "Theta 1 is 4.255319148936171\n",
      "Theta 2 is 4.344677769732079\n"
     ]
    }
   ],
   "source": [
    "clf = Ridge(alpha=0.1)\n",
    "clf.fit(X, Y)\n",
    "print(\"Theta 0 is \",clf.intercept_)\n",
    "print(\"Theta 1 is\",clf.coef_[1])\n",
    "print(\"Theta 2 is\",clf.coef_[2])"
   ]
  },
  {
   "cell_type": "markdown",
   "metadata": {},
   "source": [
    "#### For alpha = 1,"
   ]
  },
  {
   "cell_type": "code",
   "execution_count": 39,
   "metadata": {},
   "outputs": [
    {
     "name": "stdout",
     "output_type": "stream",
     "text": [
      "Theta 0 is  -6.84892086330936\n",
      "Theta 1 is 3.9999999999999996\n",
      "Theta 2 is 4.316546762589929\n"
     ]
    }
   ],
   "source": [
    "clf = Ridge(alpha=1)\n",
    "clf.fit(X, Y)\n",
    "print(\"Theta 0 is \",clf.intercept_)\n",
    "print(\"Theta 1 is\",clf.coef_[1])\n",
    "print(\"Theta 2 is\",clf.coef_[2])"
   ]
  },
  {
   "cell_type": "markdown",
   "metadata": {},
   "source": [
    "#### For alpha = 10,"
   ]
  },
  {
   "cell_type": "code",
   "execution_count": 43,
   "metadata": {},
   "outputs": [
    {
     "name": "stdout",
     "output_type": "stream",
     "text": [
      "Theta 0 is  0.013513513513508713\n",
      "Theta 1 is 2.5000000000000004\n",
      "Theta 2 is 4.054054054054054\n"
     ]
    }
   ],
   "source": [
    "clf = Ridge(alpha=10)\n",
    "clf.fit(X, Y)\n",
    "print(\"Theta 0 is \",clf.intercept_)\n",
    "print(\"Theta 1 is\",clf.coef_[1])\n",
    "print(\"Theta 2 is\",clf.coef_[2])"
   ]
  },
  {
   "cell_type": "markdown",
   "metadata": {},
   "source": [
    "#### For alpha = 100,"
   ]
  },
  {
   "cell_type": "code",
   "execution_count": 47,
   "metadata": {},
   "outputs": [
    {
     "name": "stdout",
     "output_type": "stream",
     "text": [
      "Theta 0 is  19.73197700132685\n",
      "Theta 1 is 0.5263157894736842\n",
      "Theta 2 is 2.5210084033613445\n"
     ]
    }
   ],
   "source": [
    "clf = Ridge(alpha=100)\n",
    "clf.fit(X, Y)\n",
    "print(\"Theta 0 is \",clf.intercept_)\n",
    "print(\"Theta 1 is\",clf.coef_[1])\n",
    "print(\"Theta 2 is\",clf.coef_[2])"
   ]
  }
 ],
 "metadata": {
  "kernelspec": {
   "display_name": "Python 3",
   "language": "python",
   "name": "python3"
  },
  "language_info": {
   "codemirror_mode": {
    "name": "ipython",
    "version": 3
   },
   "file_extension": ".py",
   "mimetype": "text/x-python",
   "name": "python",
   "nbconvert_exporter": "python",
   "pygments_lexer": "ipython3",
   "version": "3.7.1"
  }
 },
 "nbformat": 4,
 "nbformat_minor": 2
}
