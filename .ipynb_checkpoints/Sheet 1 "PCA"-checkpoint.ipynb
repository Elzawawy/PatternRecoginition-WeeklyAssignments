{
 "cells": [
  {
   "cell_type": "markdown",
   "metadata": {},
   "source": [
    "# Question 1 on Data Matrix"
   ]
  },
  {
   "cell_type": "markdown",
   "metadata": {},
   "source": [
    "## Given the Data Matrix D below, answer the following questions\n",
    "| ID \t| a1 \t| a2 \t| a3 \t| a4 \t|\n",
    "|----\t|----\t|----\t|----\t|----\t|\n",
    "| 1  \t| 10 \t| 60 \t| 10 \t| 90 \t|\n",
    "| 2  \t| 20 \t| 50 \t| 40 \t| 70 \t|\n",
    "| 3  \t| 30 \t| 50 \t| 30 \t| 40 \t|\n",
    "| 4  \t| 20 \t| 50 \t| 20 \t| 60 \t|\n",
    "| 5  \t| 10 \t| 60 \t| 30 \t| 10 \t|"
   ]
  },
  {
   "cell_type": "markdown",
   "metadata": {},
   "source": [
    "**a. What is number of dimensions?**"
   ]
  },
  {
   "cell_type": "markdown",
   "metadata": {},
   "source": [
    "Ans : Four dimensions."
   ]
  },
  {
   "cell_type": "markdown",
   "metadata": {},
   "source": [
    "**b. What are the types of the attributes?**"
   ]
  },
  {
   "cell_type": "markdown",
   "metadata": {},
   "source": [
    "Ans : Numeric Integer."
   ]
  },
  {
   "cell_type": "markdown",
   "metadata": {},
   "source": [
    "**c. What is the distance between x1 and x3?**"
   ]
  },
  {
   "cell_type": "markdown",
   "metadata": {},
   "source": [
    "Ans : \n",
    "\\begin{equation*}\n",
    "Distance = \\sqrt{\\sum_{i=1}^d (a_i-b_i)^2} = \\sqrt{\\sum_{i=1}^d (x1_i-x3_i)^2}\n",
    "\\end{equation*}\n",
    "\n",
    "\n",
    "Distance = $\\sqrt{(10-30)^2+(60-50)^2+(10-30)^2+(90-40)^2}$ = $10\\sqrt{34}$ = 58.3 units of length"
   ]
  },
  {
   "cell_type": "markdown",
   "metadata": {},
   "source": [
    "**d. What is the length of x2?**"
   ]
  },
  {
   "cell_type": "markdown",
   "metadata": {},
   "source": [
    "Ans : \n",
    "\\begin{equation*}\n",
    "Length = \\sqrt{\\sum_{i=1}^d a_i^2} = \\sqrt{\\sum_{i=1}^d x2_i^2}\n",
    "\\end{equation*}\n",
    "\n",
    "\n",
    "Length = $\\sqrt{(20)^2+(50)^2+(40)^2+(70)^2}$ = $10\\sqrt{94}$ = 96.95 units of length"
   ]
  },
  {
   "cell_type": "markdown",
   "metadata": {},
   "source": [
    "**e. What is the cos(angle) between x2 and x4?**"
   ]
  },
  {
   "cell_type": "markdown",
   "metadata": {},
   "source": [
    "Ans :\n",
    "$$cos\\theta = \\frac{a^Tb}{\\|a\\| \\|b\\|} = \\frac{x2^Tx4}{\\|x2\\| \\|x4\\|}$$\n",
    "\n",
    "First, calculate $x2^Tx4$ = $\\bigl(\\begin{smallmatrix}20 & 50 & 40 &70 \\end{smallmatrix} \\bigr)$ $\\bigl(\\begin{smallmatrix}20 \\\\ 50 \\\\ 20 \\\\ 60 \n",
    "\\end{smallmatrix} \\bigr)= 20*20 + 50*50+ 40*20 + 70 * 60 = 7900 $ \n",
    "\n",
    "Then, calculate $\\|x2\\| \\|x4\\|$ = ($10\\sqrt{94}$)($10\\sqrt{69}$) = 8053.57 \n",
    "\n",
    "Thus, $cos\\theta$ = $\\frac{7900}{8053.57}$ = 0.98\n",
    "\n",
    "And, Angle between x2 and x4 = 11.48 degrees\n",
    "\n",
    "                  \n"
   ]
  },
  {
   "cell_type": "markdown",
   "metadata": {},
   "source": [
    "**f. Do we need attribute scaling?**"
   ]
  },
  {
   "cell_type": "markdown",
   "metadata": {},
   "source": [
    "Ans : \n",
    "\n",
    "Since the range of values of raw data varies widely, in some machine learning algorithms, objective functions will not work properly without normalization/scaling. For example, the majority of classifiers calculate the distance between two points by the Euclidean distance. If one of the attributes has a broad range of values, the distance will be governed by this particular attribute. Therefore, the range of all attribute should be normalized/scaled so that each attribute contributes approximately proportionately to the final distance.\n",
    "Another reason why attribute scaling is applied is that gradient descent converges much faster with attribute scaling than without it."
   ]
  },
  {
   "cell_type": "markdown",
   "metadata": {},
   "source": [
    "**g. Compute the attribute scaled data matrix\n",
    "after scaling each attribute linearly between\n",
    "0 and 1**"
   ]
  },
  {
   "cell_type": "markdown",
   "metadata": {},
   "source": [
    "Ans:\n",
    "\n",
    "The calculation to normalize a single value for a column is: scaled_value = (value - min) / (max - min)\n",
    "\n",
    "\n",
    "New Attribute scaled data matrix is,\n",
    "\n",
    "| ID \t| a1  \t| a2 \t| a3   \t| a4    \t|\n",
    "|----\t|-----\t|----\t|------\t|-------\t|\n",
    "| 1  \t|  0  \t| 1  \t| 0    \t| 1     \t|\n",
    "| 2  \t| 0.5 \t| 0  \t| 1    \t| 0.75  \t|\n",
    "| 3  \t| 1   \t| 0  \t| 0.67 \t| 0.375 \t|\n",
    "| 4  \t| 0.5 \t| 0  \t| 0.33 \t| 0.625 \t|\n",
    "| 5  \t| 0   \t| 1  \t| 0.67 \t| 0     \t|\n",
    "\n",
    "\n"
   ]
  },
  {
   "cell_type": "markdown",
   "metadata": {},
   "source": [
    "**h. Repeat parts c,d,e on the scaled data\n",
    "matrix in part (g)**"
   ]
  },
  {
   "cell_type": "markdown",
   "metadata": {},
   "source": [
    "Ans :\n",
    "\n",
    "\\begin{equation*}\n",
    "Distance = \\sqrt{\\sum_{i=1}^d (a_i-b_i)^2} = \\sqrt{\\sum_{i=1}^d (x1_i-x3_i)^2}\n",
    "\\end{equation*}\n",
    "\n",
    "\n",
    "Distance = $\\sqrt{(0-1)^2+(1-0)^2+(0-0.67)^2+(1-0.375)^2}$ = 1.685 units of length\n",
    "\n",
    "***\n",
    "\n",
    "\\begin{equation*}\n",
    "Length = \\sqrt{\\sum_{i=1}^d a_i^2} = \\sqrt{\\sum_{i=1}^d x2_i^2}\n",
    "\\end{equation*}\n",
    "\n",
    "\n",
    "Length = $\\sqrt{(0.5)^2+(0)^2+(1)^2+(0.75)^2}$ = 1.3463 units of length\n",
    "\n",
    "***\n",
    "$$cos\\theta = \\frac{a^Tb}{\\|a\\| \\|b\\|} = \\frac{x2^Tx4}{\\|x2\\| \\|x4\\|}$$\n",
    "\n",
    "First, calculate $x2^Tx4$ = $\\bigl(\\begin{smallmatrix}0.5 & 0 & 1 &0.75 \\end{smallmatrix} \\bigr)$ $\\bigl(\\begin{smallmatrix}0.5 \\\\ 0 \\\\ 0.33 \\\\ 0.625 \n",
    "\\end{smallmatrix} \\bigr)= 0.5*0.5 + 0*0 + 1*0.33 + 0.75*0.625 = 1.04875$ \n",
    "\n",
    "Then, calculate $\\|x2\\| \\|x4\\|$ = (1.3463)(0.86575) = 1.1656\n",
    "\n",
    "Thus, $cos\\theta$ = $\\frac{1.04875}{1.1656}$ = 0.89975\n",
    "\n",
    "And, Angle between x2 and x4 = 25.87 degrees\n",
    "\n"
   ]
  },
  {
   "cell_type": "markdown",
   "metadata": {},
   "source": [
    "# Question 2 on Data matrix "
   ]
  },
  {
   "cell_type": "markdown",
   "metadata": {},
   "source": [
    "    ## Given the Data Matrix D above submit your python code and its output that will do the following\n",
    "        \n",
    " "
   ]
  },
  {
   "cell_type": "markdown",
   "metadata": {},
   "source": [
    "**a. Compute the norm of each instance. (5x1)**"
   ]
  },
  {
   "cell_type": "code",
   "execution_count": null,
   "metadata": {},
   "outputs": [],
   "source": [
    "\n",
    "\n"
   ]
  }
 ],
 "metadata": {
  "kernelspec": {
   "display_name": "Python 3",
   "language": "python",
   "name": "python3"
  },
  "language_info": {
   "codemirror_mode": {
    "name": "ipython",
    "version": 3
   },
   "file_extension": ".py",
   "mimetype": "text/x-python",
   "name": "python",
   "nbconvert_exporter": "python",
   "pygments_lexer": "ipython3",
   "version": "3.7.1"
  }
 },
 "nbformat": 4,
 "nbformat_minor": 2
}
