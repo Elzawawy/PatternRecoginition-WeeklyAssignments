{
 "cells": [
  {
   "cell_type": "markdown",
   "metadata": {},
   "source": [
    "## Name : Amr Ashraf Ibrahim Elzawawy\n",
    "## ID: 3788\n",
    "\n",
    "***"
   ]
  },
  {
   "cell_type": "markdown",
   "metadata": {},
   "source": [
    "# Question 1 on Data Matrix"
   ]
  },
  {
   "cell_type": "markdown",
   "metadata": {},
   "source": [
    "## Given the Data Matrix D below, answer the following questions\n",
    "| ID \t| a1 \t| a2 \t| a3 \t| a4 \t|\n",
    "|----\t|----\t|----\t|----\t|----\t|\n",
    "| 1  \t| 10 \t| 60 \t| 10 \t| 90 \t|\n",
    "| 2  \t| 20 \t| 50 \t| 40 \t| 70 \t|\n",
    "| 3  \t| 30 \t| 50 \t| 30 \t| 40 \t|\n",
    "| 4  \t| 20 \t| 50 \t| 20 \t| 60 \t|\n",
    "| 5  \t| 10 \t| 60 \t| 30 \t| 10 \t|"
   ]
  },
  {
   "cell_type": "markdown",
   "metadata": {},
   "source": [
    "**a. What is number of dimensions?**"
   ]
  },
  {
   "cell_type": "markdown",
   "metadata": {},
   "source": [
    "Ans : Four dimensions.\n",
    "\n",
    "***"
   ]
  },
  {
   "cell_type": "markdown",
   "metadata": {},
   "source": [
    "**b. What are the types of the attributes?**"
   ]
  },
  {
   "cell_type": "markdown",
   "metadata": {},
   "source": [
    "Ans : Numeric Integer.\n",
    "\n",
    "***"
   ]
  },
  {
   "cell_type": "markdown",
   "metadata": {},
   "source": [
    "**c. What is the distance between x1 and x3?**"
   ]
  },
  {
   "cell_type": "markdown",
   "metadata": {},
   "source": [
    "Ans : \n",
    "\\begin{equation*}\n",
    "Distance = \\sqrt{\\sum_{i=1}^d (a_i-b_i)^2} = \\sqrt{\\sum_{i=1}^d (x1_i-x3_i)^2}\n",
    "\\end{equation*}\n",
    "\n",
    "\n",
    "Distance = $\\sqrt{(10-30)^2+(60-50)^2+(10-30)^2+(90-40)^2}$ = $10\\sqrt{34}$ = 58.3 units of length\n",
    "\n"
   ]
  },
  {
   "cell_type": "markdown",
   "metadata": {},
   "source": [
    "**d. What is the length of x2?**"
   ]
  },
  {
   "cell_type": "markdown",
   "metadata": {},
   "source": [
    "Ans : \n",
    "\\begin{equation*}\n",
    "Length = \\sqrt{\\sum_{i=1}^d a_i^2} = \\sqrt{\\sum_{i=1}^d x2_i^2}\n",
    "\\end{equation*}\n",
    "\n",
    "\n",
    "Length = $\\sqrt{(20)^2+(50)^2+(40)^2+(70)^2}$ = $10\\sqrt{94}$ = 96.95 units of length\n",
    "\n",
    "***"
   ]
  },
  {
   "cell_type": "markdown",
   "metadata": {},
   "source": [
    "**e. What is the cos(angle) between x2 and x4?**"
   ]
  },
  {
   "cell_type": "markdown",
   "metadata": {},
   "source": [
    "Ans :\n",
    "$$cos\\theta = \\frac{a^Tb}{\\|a\\| \\|b\\|} = \\frac{x2^Tx4}{\\|x2\\| \\|x4\\|}$$\n",
    "\n",
    "First, calculate $x2^Tx4$ = $$\\bigl(\\begin{smallmatrix}20 & 50 & 40 &70 \\end{smallmatrix} \\bigr)\\bigl(\\begin{smallmatrix}20 \\\\ 50 \\\\ 20 \\\\ 60\\end{smallmatrix} \\bigr)= 20*20 + 50*50+ 40*20 + 70 * 60 = 7900 $$\n",
    "\n",
    "Then, calculate $\\|x2\\| \\|x4\\|$ = ($10\\sqrt{94}$)($10\\sqrt{69}$) = 8053.57 \n",
    "\n",
    "Thus, $cos\\theta$ = $\\frac{7900}{8053.57}$ = 0.98\n",
    "\n",
    "And, Angle between x2 and x4 = 11.48 degrees\n",
    "\n",
    "***      "
   ]
  },
  {
   "cell_type": "markdown",
   "metadata": {},
   "source": [
    "**f. Do we need attribute scaling?**"
   ]
  },
  {
   "cell_type": "markdown",
   "metadata": {},
   "source": [
    "Ans : \n",
    "\n",
    "Since the range of values of raw data varies widely, in some machine learning algorithms, objective functions will not work properly without normalization/scaling. For example, the majority of classifiers calculate the distance between two points by the Euclidean distance. If one of the attributes has a broad range of values, the distance will be governed by this particular attribute. Therefore, the range of all attribute should be normalized/scaled so that each attribute contributes approximately proportionately to the final distance.\n",
    "Another reason why attribute scaling is applied is that gradient descent converges much faster with attribute scaling than without it.\n",
    "\n",
    "***"
   ]
  },
  {
   "cell_type": "markdown",
   "metadata": {},
   "source": [
    "**g. Compute the attribute scaled data matrix\n",
    "after scaling each attribute linearly between\n",
    "0 and 1**"
   ]
  },
  {
   "cell_type": "markdown",
   "metadata": {},
   "source": [
    "Ans:\n",
    "\n",
    "The calculation to normalize a single value for a column is: *scaled value = (value - min) / (max - min)*\n",
    "\n",
    "\n",
    "New Attribute scaled data matrix is,\n",
    "\n",
    "| ID \t| a1  \t| a2 \t| a3   \t| a4    \t|\n",
    "|----\t|-----\t|----\t|------\t|-------\t|\n",
    "| 1  \t|  0  \t| 1  \t| 0    \t| 1     \t|\n",
    "| 2  \t| 0.5 \t| 0  \t| 1    \t| 0.75  \t|\n",
    "| 3  \t| 1   \t| 0  \t| 0.67 \t| 0.375 \t|\n",
    "| 4  \t| 0.5 \t| 0  \t| 0.33 \t| 0.625 \t|\n",
    "| 5  \t| 0   \t| 1  \t| 0.67 \t| 0     \t|\n",
    "\n",
    "***"
   ]
  },
  {
   "cell_type": "markdown",
   "metadata": {},
   "source": [
    "**h. Repeat parts c,d,e on the scaled data\n",
    "matrix in part (g)**"
   ]
  },
  {
   "cell_type": "markdown",
   "metadata": {},
   "source": [
    "Ans :\n",
    "\n",
    "\\begin{equation*}\n",
    "Distance = \\sqrt{\\sum_{i=1}^d (a_i-b_i)^2} = \\sqrt{\\sum_{i=1}^d (x1_i-x3_i)^2}\n",
    "\\end{equation*}\n",
    "\n",
    "\n",
    "Distance = $\\sqrt{(0-1)^2+(1-0)^2+(0-0.67)^2+(1-0.375)^2}$ = 1.685 units of length\n",
    "\n",
    "***\n",
    "\n",
    "\\begin{equation*}\n",
    "Length = \\sqrt{\\sum_{i=1}^d a_i^2} = \\sqrt{\\sum_{i=1}^d x2_i^2}\n",
    "\\end{equation*}\n",
    "\n",
    "\n",
    "Length = $\\sqrt{(0.5)^2+(0)^2+(1)^2+(0.75)^2}$ = 1.3463 units of length\n",
    "\n",
    "***\n",
    "$$cos\\theta = \\frac{a^Tb}{\\|a\\| \\|b\\|} = \\frac{x2^Tx4}{\\|x2\\| \\|x4\\|}$$\n",
    "\n",
    "First, calculate $x2^Tx4$ = $\\bigl(\\begin{smallmatrix}0.5 & 0 & 1 &0.75 \\end{smallmatrix} \\bigr)$ $\\bigl(\\begin{smallmatrix}0.5 \\\\ 0 \\\\ 0.33 \\\\ 0.625 \n",
    "\\end{smallmatrix} \\bigr)= 0.5*0.5 + 0*0 + 1*0.33 + 0.75*0.625 = 1.04875$ \n",
    "\n",
    "Then, calculate $\\|x2\\| \\|x4\\|$ = (1.3463)(0.86575) = 1.1656\n",
    "\n",
    "Thus, $cos\\theta$ = $\\frac{1.04875}{1.1656}$ = 0.89975\n",
    "\n",
    "And, Angle between x2 and x4 = 25.87 degrees\n",
    "\n",
    "***"
   ]
  },
  {
   "cell_type": "markdown",
   "metadata": {},
   "source": [
    "# Question 2 on Data matrix "
   ]
  },
  {
   "cell_type": "markdown",
   "metadata": {},
   "source": [
    "## Given the Data Matrix D above submit your python code and its output that will do the following\n",
    "        \n",
    " "
   ]
  },
  {
   "cell_type": "markdown",
   "metadata": {},
   "source": [
    "**Import libraries needed**"
   ]
  },
  {
   "cell_type": "code",
   "execution_count": 2,
   "metadata": {},
   "outputs": [],
   "source": [
    "import numpy as np"
   ]
  },
  {
   "cell_type": "markdown",
   "metadata": {},
   "source": [
    "**Store Matrix D**"
   ]
  },
  {
   "cell_type": "code",
   "execution_count": 3,
   "metadata": {},
   "outputs": [],
   "source": [
    "matD = np.array([[10,60,10,90],[20,50,40,70],[30,50,30,40],[20,50,20,60],[10,60,30,10]])"
   ]
  },
  {
   "cell_type": "markdown",
   "metadata": {},
   "source": [
    "**a. Compute the norm of each instance. (5x1)**"
   ]
  },
  {
   "cell_type": "code",
   "execution_count": 19,
   "metadata": {},
   "outputs": [
    {
     "data": {
      "text/plain": [
       "array([109.08712115,  96.95359715,  76.81145748,  83.06623863,\n",
       "        68.556546  ])"
      ]
     },
     "execution_count": 19,
     "metadata": {},
     "output_type": "execute_result"
    }
   ],
   "source": [
    "np.sum(np.abs(matD)**2,axis=-1)**(1./2)"
   ]
  },
  {
   "cell_type": "markdown",
   "metadata": {},
   "source": [
    "**b. Compute the Cosine similarity matrix (5x5) matrix**"
   ]
  },
  {
   "cell_type": "markdown",
   "metadata": {},
   "source": [
    "**Import needed libraries**"
   ]
  },
  {
   "cell_type": "code",
   "execution_count": 5,
   "metadata": {},
   "outputs": [],
   "source": [
    "from sklearn.metrics.pairwise import cosine_similarity"
   ]
  },
  {
   "cell_type": "code",
   "execution_count": 6,
   "metadata": {},
   "outputs": [
    {
     "data": {
      "text/plain": [
       "array([[1.        , 0.93604728, 0.85927665, 0.97114627, 0.65519967],\n",
       "       [0.93604728, 1.        , 0.95338522, 0.98093136, 0.76728608],\n",
       "       [0.85927665, 0.95338522, 1.        , 0.95604709, 0.8735402 ],\n",
       "       [0.97114627, 0.98093136, 0.95604709, 1.        , 0.77264358],\n",
       "       [0.65519967, 0.76728608, 0.8735402 , 0.77264358, 1.        ]])"
      ]
     },
     "execution_count": 6,
     "metadata": {},
     "output_type": "execute_result"
    }
   ],
   "source": [
    "cosine_similarity(matD)"
   ]
  },
  {
   "cell_type": "markdown",
   "metadata": {},
   "source": [
    "**c. Compute the Euclidean Distance matrix of the instances (5x5)**"
   ]
  },
  {
   "cell_type": "markdown",
   "metadata": {},
   "source": [
    "**Import needed libraries**"
   ]
  },
  {
   "cell_type": "code",
   "execution_count": 7,
   "metadata": {},
   "outputs": [],
   "source": [
    "from sklearn.metrics.pairwise import euclidean_distances"
   ]
  },
  {
   "cell_type": "code",
   "execution_count": 20,
   "metadata": {},
   "outputs": [
    {
     "data": {
      "text/plain": [
       "array([[ 0.        , 38.72983346, 58.30951895, 34.64101615, 82.46211251],\n",
       "       [38.72983346,  0.        , 33.1662479 , 22.36067977, 62.44997998],\n",
       "       [58.30951895, 33.1662479 ,  0.        , 24.49489743, 37.41657387],\n",
       "       [34.64101615, 22.36067977, 24.49489743,  0.        , 52.91502622],\n",
       "       [82.46211251, 62.44997998, 37.41657387, 52.91502622,  0.        ]])"
      ]
     },
     "execution_count": 20,
     "metadata": {},
     "output_type": "execute_result"
    }
   ],
   "source": [
    "euclidean_distances(matD)"
   ]
  },
  {
   "cell_type": "markdown",
   "metadata": {},
   "source": [
    "# Question 3 on Principal Component Analysis"
   ]
  },
  {
   "cell_type": "markdown",
   "metadata": {},
   "source": [
    "## Given Data matrix D above. Consider a1, a2 and a4 only"
   ]
  },
  {
   "cell_type": "markdown",
   "metadata": {},
   "source": [
    "**a. Write down the new data matrix D3 (5x3)**"
   ]
  },
  {
   "cell_type": "markdown",
   "metadata": {},
   "source": [
    "| ID \t| a1 \t| a2 \t| a4 \t|\n",
    "|----\t|----\t|----\t|----\t|\n",
    "| 1  \t| 10 \t| 60 \t| 90 \t|\n",
    "| 2  \t| 20 \t| 50 \t| 70 \t|\n",
    "| 3  \t| 30 \t| 50 \t| 40 \t|\n",
    "| 4  \t| 20 \t| 50 \t| 60 \t|\n",
    "| 5  \t| 10 \t| 60 \t| 10 \t|"
   ]
  },
  {
   "cell_type": "markdown",
   "metadata": {},
   "source": [
    "**b. Plot the data using 3d scatter plots**"
   ]
  },
  {
   "cell_type": "markdown",
   "metadata": {},
   "source": [
    "**Import need libraries**"
   ]
  },
  {
   "cell_type": "code",
   "execution_count": 21,
   "metadata": {},
   "outputs": [],
   "source": [
    "from mpl_toolkits.mplot3d import Axes3D\n",
    "import matplotlib.pyplot as plt"
   ]
  },
  {
   "cell_type": "code",
   "execution_count": 22,
   "metadata": {},
   "outputs": [
    {
     "data": {
      "text/plain": [
       "<mpl_toolkits.mplot3d.art3d.Path3DCollection at 0x7fa1dfa59a58>"
      ]
     },
     "execution_count": 22,
     "metadata": {},
     "output_type": "execute_result"
    },
    {
     "data": {
      "image/png": "[encoded data removed]",
      "text/plain": [
       "<Figure size 432x288 with 1 Axes>"
      ]
     },
     "metadata": {
      "needs_background": "light"
     },
     "output_type": "display_data"
    }
   ],
   "source": [
    "ax = plt.axes(projection='3d')\n",
    "matD3 = np.array([[10,60,90],[20,50,70],[30,50,40],[20,50,60],[10,60,10]])\n",
    "dim1 = matD3[:,0]\n",
    "dim2 = matD3[:,1]\n",
    "dim3 = matD3[:,2]\n",
    "ax.scatter3D(dim1,dim2,dim3)"
   ]
  },
  {
   "cell_type": "markdown",
   "metadata": {},
   "source": [
    "**c. Compute the mean vector (3x1)**"
   ]
  },
  {
   "cell_type": "markdown",
   "metadata": {},
   "source": [
    "Ans :\n",
    "\n",
    "We compute the mean vector by calculating the mean of each attribute along all instances. \n",
    "\n",
    "Mean of a1 = $\\frac{(10+20+30+20+10)}{5} = 18$\n",
    "\n",
    "Mean of a2 = $\\frac{(60+50+50+50+60)}{5} = 54$\n",
    "\n",
    "Mean of a4 = $\\frac{(90+70+40+60+10)}{5} = 54$\n",
    "\n",
    "Mean vector is $\\bigl(\\begin{smallmatrix}18 & 54 & 54 \\end{smallmatrix} \\bigr)$ \n",
    "\n",
    "*It can be also computed using np.mean(matD3, axis=0)*\n",
    "\n",
    "***"
   ]
  },
  {
   "cell_type": "markdown",
   "metadata": {},
   "source": [
    "**d. Compute centered data matrix Z by subtracting mean vector from the Data Matrix. (5x3)**"
   ]
  },
  {
   "cell_type": "markdown",
   "metadata": {},
   "source": [
    "Ans:\n",
    "\n",
    "Simply subtract mean vector from each row in D3 matrix. \n",
    "$$Z = \\begin{pmatrix}\n",
    "  -8 & 6 & 36\\\\\n",
    "  2 & -4 & 16\\\\\n",
    "  12 & -4 & -14\\\\\n",
    "  2 & -4 & 6\\\\\n",
    "  -8 & 6 & -44\n",
    " \\end{pmatrix}$$\n",
    " \n",
    "***"
   ]
  },
  {
   "cell_type": "markdown",
   "metadata": {},
   "source": [
    "**e. Compute Covariance matrix COV (3x3)**"
   ]
  },
  {
   "cell_type": "code",
   "execution_count": 133,
   "metadata": {},
   "outputs": [
    {
     "data": {
      "text/plain": [
       "array([[ 56., -32., -12.],\n",
       "       [-32.,  24., -16.],\n",
       "       [-12., -16., 744.]])"
      ]
     },
     "execution_count": 133,
     "metadata": {},
     "output_type": "execute_result"
    }
   ],
   "source": [
    "matZ = np.array([[-8,6,36],[2,-4,16],[12,-4,-14],[2,-4,6],[-8,6,-44]])\n",
    "covMat = np.cov(matZ,rowvar=False, bias=True)\n",
    "covMat"
   ]
  },
  {
   "cell_type": "markdown",
   "metadata": {},
   "source": [
    "**f. Use python solvers to find eigenvalues (Diagonal 3x3 matrix) and\n",
    "eigen vectors (3x3) matrix. Take care of the eigenvalues order.**"
   ]
  },
  {
   "cell_type": "markdown",
   "metadata": {},
   "source": [
    "Ans :\n",
    "\n",
    "After we computed the covariance matrix. We apply the python solver to get eigenvalues and vectors.\n"
   ]
  },
  {
   "cell_type": "code",
   "execution_count": 134,
   "metadata": {},
   "outputs": [
    {
     "name": "stdout",
     "output_type": "stream",
     "text": [
      "Eigen Values Array : \n",
      "[ 75.77229965   3.68692565 744.5407747 ]\n",
      "Eigen Vectors Matrix : \n",
      "[[ 0.85025739 -0.52611085 -0.01642407]\n",
      " [-0.5263604  -0.8499905  -0.02146802]\n",
      " [ 0.00266574 -0.02689832  0.99963462]]\n",
      "Eigen Values Matrix : \n",
      "[[ 75.77229965   0.           0.        ]\n",
      " [  0.           3.68692565   0.        ]\n",
      " [  0.           0.         744.5407747 ]]\n"
     ]
    }
   ],
   "source": [
    "(eigVal,eigVect) = np.linalg.eig(covMat)\n",
    "print(\"Eigen Values Array : \")\n",
    "print(eigVal)\n",
    "#eigVal is an array, we need to convert it into diagonal 3*3 matrix\n",
    "eigValMat = np.diag(eigVal)\n",
    "print(\"Eigen Vectors Matrix : \")\n",
    "print(eigVect)\n",
    "print(\"Eigen Values Matrix : \")\n",
    "print(eigValMat)"
   ]
  },
  {
   "cell_type": "markdown",
   "metadata": {},
   "source": [
    "**g. Verify $U^T\\Lambda U= COV.$**"
   ]
  },
  {
   "cell_type": "code",
   "execution_count": 135,
   "metadata": {},
   "outputs": [
    {
     "data": {
      "text/plain": [
       "array([[ 55.80541937, -32.29904625,   0.96755382],\n",
       "       [-32.29904625,  24.17564786, -19.29756198],\n",
       "       [  0.96755382, -19.29756198, 744.01893277]])"
      ]
     },
     "execution_count": 135,
     "metadata": {},
     "output_type": "execute_result"
    }
   ],
   "source": [
    "eigVect.T @ eigValMat  @ eigVect"
   ]
  },
  {
   "cell_type": "markdown",
   "metadata": {},
   "source": [
    "**h. Compute the explained variance by the eigenvector corresponding\n",
    "to the largest eigenvalue. Do you think one eigenvector is good\n",
    "enough?**"
   ]
  },
  {
   "cell_type": "markdown",
   "metadata": {},
   "source": [
    "Ans :\n",
    "\n",
    "The eigenvector required is $$X= \\begin{pmatrix}\n",
    "  -0.01642407 \\\\ -0.02146802 \\\\ 0.99963462\n",
    " \\end{pmatrix}$$\n",
    " \n",
    "To calculate the explained variance we compute, $$\\frac{\\lambda_x}{\\sum_{i=1}^d \\lambda_i} = \\frac{744.5407747}{744.5407747+3.68692565+75.77229965} = 0.90 $$\n",
    "\n",
    "One Eigenvector is not enough, as using only one eigenvector will give much error in transformation of axes.Instead Using the largest 2 eigen vectors will yeild 99% and this is much much less error.\n",
    "\n",
    "***"
   ]
  },
  {
   "cell_type": "markdown",
   "metadata": {},
   "source": [
    "**i. Compute the projection matrix P to go to 2-dimensions. Consider\n",
    "the top two eigenvectors of matrix U according to\n",
    "eigenvalues.(3x2)**"
   ]
  },
  {
   "cell_type": "markdown",
   "metadata": {},
   "source": [
    "Ans :\n",
    "Considering top 2 eigenvectors of matrix U*U^T only produces P as follows.\n",
    "$$P = \\begin{pmatrix}\n",
    "  0.85025739 & -0.01642407 \\\\ -0.5263604 & -0.02146802 \\\\ 0.00266574 & 0.99963462\n",
    " \\end{pmatrix}\\begin{pmatrix}\n",
    "  0.85025739 & -0.5263604  & 0.00266574 \\\\  -0.01642407 & -0.02146802  & 0.99963462\n",
    " \\end{pmatrix}$$\n",
    " \n",
    "***"
   ]
  },
  {
   "cell_type": "markdown",
   "metadata": {},
   "source": [
    "**j. Project the instances into a 2-Dimension space. $x_ນ= P^Tx$**"
   ]
  },
  {
   "cell_type": "markdown",
   "metadata": {},
   "source": [
    "Ans :\n",
    "First define P matrix in python then we get $x_ນ$"
   ]
  },
  {
   "cell_type": "code",
   "execution_count": 154,
   "metadata": {},
   "outputs": [],
   "source": [
    "matU = np.array([[-0.01642407,0.85025739],[-0.02146802,-0.5263604],[0.99963462,0.00266574]])\n",
    "matP = matU @ matU.T\n",
    "x1 = matD3[0,:]\n",
    "x2 = matD3[1,:]\n",
    "x3 = matD3[2,:]\n",
    "x4 = matD3[3,:]\n",
    "x5 = matD3[4,:]\n",
    "new_x1 = matP @ x1   #instace 1 projected.\n",
    "new_x2 = matP @ x2   #instace 2 projected.\n",
    "new_x3 = matP @ x3   #instace 3 projected.\n",
    "new_x4 = matP @ x4   #instace 4 projected.\n",
    "new_x5 = matP @ x5   #instace 5 projected.\n",
    "matProjection = np.array([new_x1,new_x2,new_x3,new_x4,new_x5])"
   ]
  },
  {
   "cell_type": "code",
   "execution_count": 153,
   "metadata": {},
   "outputs": [
    {
     "data": {
      "text/plain": [
       "<matplotlib.collections.PathCollection at 0x7fa1deecbc18>"
      ]
     },
     "execution_count": 153,
     "metadata": {},
     "output_type": "execute_result"
    },
    {
     "data": {
      "image/png": "[encoded data removed]",
      "text/plain": [
       "<Figure size 432x288 with 1 Axes>"
      ]
     },
     "metadata": {
      "needs_background": "light"
     },
     "output_type": "display_data"
    }
   ],
   "source": [
    "A_x1 = matU.T @ x1\n",
    "A_x2 = matU.T @ x2\n",
    "A_x3 = matU.T @ x3\n",
    "A_x4 = matU.T @ x4\n",
    "A_x5 = matU.T @ x5\n",
    "matD2 = np.array([A_x1,A_x2,A_x3,A_x4,A_x5])\n",
    "ax = plt.axes()\n",
    "ax.scatter(matD2[:,0],matD2[:,1])"
   ]
  },
  {
   "cell_type": "markdown",
   "metadata": {},
   "source": [
    "# Question 4 : Midterm1 Question Fall 2017"
   ]
  },
  {
   "cell_type": "markdown",
   "metadata": {},
   "source": [
    "## Given the data below , answer the following questions"
   ]
  },
  {
   "cell_type": "markdown",
   "metadata": {},
   "source": [
    "**A. Compute 3x3 Covariance matrix of the 5 tuples dataset we have.**"
   ]
  },
  {
   "cell_type": "markdown",
   "metadata": {},
   "source": [
    "Ans:\n",
    "\n",
    "First we store the original given matrix\n",
    "$$X = \\begin{pmatrix}\n",
    "  0.5 & 4.5 & 2.5\\\\2.2 & 1.5 & 0.1\\\\3.9 & 3.5 & 1.1\\\\ 2.1 & 1.9 & 4.9\\\\0.5 & 3.2 & 1.2\n",
    " \\end{pmatrix}$$"
   ]
  },
  {
   "cell_type": "code",
   "execution_count": 155,
   "metadata": {},
   "outputs": [],
   "source": [
    "matX = np.array([[0.5,4.5,2.5],[2.2,1.5,0.1],[3.9 ,3.5 ,1.1], [2.1,1.9,4.9],[0.5,3.2,1.2]])\n",
    "meanVect = np.mean(matX, axis=0)\n",
    "matZ = matX - meanVect"
   ]
  },
  {
   "cell_type": "code",
   "execution_count": 156,
   "metadata": {},
   "outputs": [
    {
     "data": {
      "text/plain": [
       "array([[ 1.6064, -0.4148, -0.2764],\n",
       "       [-0.4148,  1.1936, -0.0432],\n",
       "       [-0.2764, -0.0432,  2.7424]])"
      ]
     },
     "execution_count": 156,
     "metadata": {},
     "output_type": "execute_result"
    }
   ],
   "source": [
    "np.cov(matZ,rowvar=False,bias=True)"
   ]
  },
  {
   "cell_type": "markdown",
   "metadata": {},
   "source": [
    "**B. The trace of the covariance matrix is the sum of the eigenvalues\n",
    "of the matrix.**\n",
    "\n",
    "\n",
    "**1. Compute the three eigenvalues of the covariance matrix if $$\\frac{\\lambda_a}{\\lambda_c} = 0.505$$ and $$\\frac{\\lambda_b}{\\lambda_c} = 0.647$$**"
   ]
  },
  {
   "cell_type": "markdown",
   "metadata": {},
   "source": [
    "Ans:\n",
    "\n",
    "**Following the rule above.**\n",
    "$$Trace of Covariance matrix= (1.6964+1.1936+2.7424)= 5.6324$$\n",
    "\n",
    "$$\\lambda_a+\\lambda_b+\\lambda_c = 5.6324$$\n",
    "\n",
    "**By Substituting with given relations**\n",
    "$$0.505\\lambda_c+0.647\\lambda_c+\\lambda_c = 5.6324$$\n",
    "\n",
    "$$\\lambda_c = 3.4804$$\n",
    "**and,**\n",
    "$$\\lambda_a = 1.757602$$\n",
    "**and,**\n",
    "$$\\lambda_b = 2.518188$$\n"
   ]
  },
  {
   "cell_type": "markdown",
   "metadata": {},
   "source": [
    "**2.Determine the explained variance using only using $\\lambda_b,\\lambda_c$**"
   ]
  },
  {
   "cell_type": "markdown",
   "metadata": {},
   "source": [
    "Ans:\n",
    "\n",
    "To calculate the explained variance we compute, $$\\frac{\\lambda_c+\\lambda_b}{\\sum_{i=1}^d \\lambda_i} = \\frac{3.4804+2.518188}{3.4804+2.518188+1.757602} = 0.77$$\n",
    "\n",
    "***"
   ]
  }
 ],
 "metadata": {
  "kernelspec": {
   "display_name": "Python 3",
   "language": "python",
   "name": "python3"
  },
  "language_info": {
   "codemirror_mode": {
    "name": "ipython",
    "version": 3
   },
   "file_extension": ".py",
   "mimetype": "text/x-python",
   "name": "python",
   "nbconvert_exporter": "python",
   "pygments_lexer": "ipython3",
   "version": "3.7.1"
  }
 },
 "nbformat": 4,
 "nbformat_minor": 2
}
